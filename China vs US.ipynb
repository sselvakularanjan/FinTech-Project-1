{
 "cells": [
  {
   "cell_type": "code",
   "execution_count": 65,
   "metadata": {},
   "outputs": [],
   "source": [
    "from tiingo import TiingoClient\n",
    "import os\n",
    "from datetime import datetime, timedelta\n",
    "import pandas as pd\n",
    "import json\n",
    "%matplotlib inline"
   ]
  },
  {
   "cell_type": "code",
   "execution_count": 47,
   "metadata": {},
   "outputs": [],
   "source": [
    "tiingo = os.getenv('TIINGO_API_KEY')"
   ]
  },
  {
   "cell_type": "code",
   "execution_count": 48,
   "metadata": {},
   "outputs": [],
   "source": [
    "client = TiingoClient()"
   ]
  },
  {
   "cell_type": "code",
   "execution_count": 53,
   "metadata": {},
   "outputs": [],
   "source": [
    "start = datetime.strptime('2019-12-01', '%Y-%m-%d')\n",
    "end = datetime.now()"
   ]
  },
  {
   "cell_type": "code",
   "execution_count": 106,
   "metadata": {},
   "outputs": [
    {
     "name": "stderr",
     "output_type": "stream",
     "text": [
      "C:\\Users\\selva\\Anaconda3\\lib\\site-packages\\tiingo\\api.py:270: FutureWarning: Sorting because non-concatenation axis is not aligned. A future version\n",
      "of pandas will change to not sort by default.\n",
      "\n",
      "To accept the future behavior, pass 'sort=False'.\n",
      "\n",
      "To retain the current behavior and silence the warning, pass 'sort=True'.\n",
      "\n",
      "  prices = pd.concat([prices, df[stock]], axis=1)\n"
     ]
    }
   ],
   "source": [
    "china_ticker_df = client.get_dataframe(['ASHR','CQQQ', 'CHIE', 'CHIM', 'KURE', 'CHIS'],\n",
    "                                            metric_name='close',\n",
    "                                            startDate= start,\n",
    "                                            endDate= end,\n",
    "                                            frequency='daily')"
   ]
  },
  {
   "cell_type": "code",
   "execution_count": 108,
   "metadata": {},
   "outputs": [
    {
     "data": {
      "text/html": [
       "<div>\n",
       "<style scoped>\n",
       "    .dataframe tbody tr th:only-of-type {\n",
       "        vertical-align: middle;\n",
       "    }\n",
       "\n",
       "    .dataframe tbody tr th {\n",
       "        vertical-align: top;\n",
       "    }\n",
       "\n",
       "    .dataframe thead th {\n",
       "        text-align: right;\n",
       "    }\n",
       "</style>\n",
       "<table border=\"1\" class=\"dataframe\">\n",
       "  <thead>\n",
       "    <tr style=\"text-align: right;\">\n",
       "      <th></th>\n",
       "      <th>ASHR</th>\n",
       "      <th>CQQQ</th>\n",
       "      <th>CHIE</th>\n",
       "      <th>CHIM</th>\n",
       "      <th>KURE</th>\n",
       "      <th>CHIS</th>\n",
       "    </tr>\n",
       "    <tr>\n",
       "      <th>date</th>\n",
       "      <th></th>\n",
       "      <th></th>\n",
       "      <th></th>\n",
       "      <th></th>\n",
       "      <th></th>\n",
       "      <th></th>\n",
       "    </tr>\n",
       "  </thead>\n",
       "  <tbody>\n",
       "    <tr>\n",
       "      <td>2019-12-02 00:00:00+00:00</td>\n",
       "      <td>27.43</td>\n",
       "      <td>49.860</td>\n",
       "      <td>10.125</td>\n",
       "      <td>15.045</td>\n",
       "      <td>21.8970</td>\n",
       "      <td>21.2614</td>\n",
       "    </tr>\n",
       "    <tr>\n",
       "      <td>2019-12-03 00:00:00+00:00</td>\n",
       "      <td>27.42</td>\n",
       "      <td>49.510</td>\n",
       "      <td>10.000</td>\n",
       "      <td>14.895</td>\n",
       "      <td>21.8410</td>\n",
       "      <td>21.0850</td>\n",
       "    </tr>\n",
       "    <tr>\n",
       "      <td>2019-12-04 00:00:00+00:00</td>\n",
       "      <td>27.77</td>\n",
       "      <td>49.595</td>\n",
       "      <td>10.035</td>\n",
       "      <td>15.150</td>\n",
       "      <td>22.1499</td>\n",
       "      <td>21.4000</td>\n",
       "    </tr>\n",
       "    <tr>\n",
       "      <td>2019-12-05 00:00:00+00:00</td>\n",
       "      <td>27.89</td>\n",
       "      <td>50.440</td>\n",
       "      <td>9.865</td>\n",
       "      <td>15.120</td>\n",
       "      <td>22.4179</td>\n",
       "      <td>21.4622</td>\n",
       "    </tr>\n",
       "    <tr>\n",
       "      <td>2019-12-06 00:00:00+00:00</td>\n",
       "      <td>28.18</td>\n",
       "      <td>50.810</td>\n",
       "      <td>10.040</td>\n",
       "      <td>15.255</td>\n",
       "      <td>22.6872</td>\n",
       "      <td>21.6789</td>\n",
       "    </tr>\n",
       "  </tbody>\n",
       "</table>\n",
       "</div>"
      ],
      "text/plain": [
       "                            ASHR    CQQQ    CHIE    CHIM     KURE     CHIS\n",
       "date                                                                      \n",
       "2019-12-02 00:00:00+00:00  27.43  49.860  10.125  15.045  21.8970  21.2614\n",
       "2019-12-03 00:00:00+00:00  27.42  49.510  10.000  14.895  21.8410  21.0850\n",
       "2019-12-04 00:00:00+00:00  27.77  49.595  10.035  15.150  22.1499  21.4000\n",
       "2019-12-05 00:00:00+00:00  27.89  50.440   9.865  15.120  22.4179  21.4622\n",
       "2019-12-06 00:00:00+00:00  28.18  50.810  10.040  15.255  22.6872  21.6789"
      ]
     },
     "execution_count": 108,
     "metadata": {},
     "output_type": "execute_result"
    }
   ],
   "source": [
    "china_ticker_df.head()"
   ]
  },
  {
   "cell_type": "code",
   "execution_count": 110,
   "metadata": {},
   "outputs": [
    {
     "data": {
      "text/html": [
       "<div>\n",
       "<style scoped>\n",
       "    .dataframe tbody tr th:only-of-type {\n",
       "        vertical-align: middle;\n",
       "    }\n",
       "\n",
       "    .dataframe tbody tr th {\n",
       "        vertical-align: top;\n",
       "    }\n",
       "\n",
       "    .dataframe thead th {\n",
       "        text-align: right;\n",
       "    }\n",
       "</style>\n",
       "<table border=\"1\" class=\"dataframe\">\n",
       "  <thead>\n",
       "    <tr style=\"text-align: right;\">\n",
       "      <th></th>\n",
       "      <th>ASHR</th>\n",
       "      <th>CQQQ</th>\n",
       "      <th>CHIE</th>\n",
       "      <th>CHIM</th>\n",
       "      <th>KURE</th>\n",
       "      <th>CHIS</th>\n",
       "    </tr>\n",
       "    <tr>\n",
       "      <th>date</th>\n",
       "      <th></th>\n",
       "      <th></th>\n",
       "      <th></th>\n",
       "      <th></th>\n",
       "      <th></th>\n",
       "      <th></th>\n",
       "    </tr>\n",
       "  </thead>\n",
       "  <tbody>\n",
       "    <tr>\n",
       "      <td>2019-12-02 00:00:00+00:00</td>\n",
       "      <td>NaN</td>\n",
       "      <td>NaN</td>\n",
       "      <td>NaN</td>\n",
       "      <td>NaN</td>\n",
       "      <td>NaN</td>\n",
       "      <td>NaN</td>\n",
       "    </tr>\n",
       "    <tr>\n",
       "      <td>2019-12-03 00:00:00+00:00</td>\n",
       "      <td>-0.000365</td>\n",
       "      <td>-0.007020</td>\n",
       "      <td>-0.012346</td>\n",
       "      <td>-0.009970</td>\n",
       "      <td>-0.002557</td>\n",
       "      <td>-0.008297</td>\n",
       "    </tr>\n",
       "    <tr>\n",
       "      <td>2019-12-04 00:00:00+00:00</td>\n",
       "      <td>0.012764</td>\n",
       "      <td>0.001717</td>\n",
       "      <td>0.003500</td>\n",
       "      <td>0.017120</td>\n",
       "      <td>0.014143</td>\n",
       "      <td>0.014940</td>\n",
       "    </tr>\n",
       "    <tr>\n",
       "      <td>2019-12-05 00:00:00+00:00</td>\n",
       "      <td>0.004321</td>\n",
       "      <td>0.017038</td>\n",
       "      <td>-0.016941</td>\n",
       "      <td>-0.001980</td>\n",
       "      <td>0.012099</td>\n",
       "      <td>0.002907</td>\n",
       "    </tr>\n",
       "    <tr>\n",
       "      <td>2019-12-06 00:00:00+00:00</td>\n",
       "      <td>0.010398</td>\n",
       "      <td>0.007335</td>\n",
       "      <td>0.017739</td>\n",
       "      <td>0.008929</td>\n",
       "      <td>0.012013</td>\n",
       "      <td>0.010097</td>\n",
       "    </tr>\n",
       "  </tbody>\n",
       "</table>\n",
       "</div>"
      ],
      "text/plain": [
       "                               ASHR      CQQQ      CHIE      CHIM      KURE  \\\n",
       "date                                                                          \n",
       "2019-12-02 00:00:00+00:00       NaN       NaN       NaN       NaN       NaN   \n",
       "2019-12-03 00:00:00+00:00 -0.000365 -0.007020 -0.012346 -0.009970 -0.002557   \n",
       "2019-12-04 00:00:00+00:00  0.012764  0.001717  0.003500  0.017120  0.014143   \n",
       "2019-12-05 00:00:00+00:00  0.004321  0.017038 -0.016941 -0.001980  0.012099   \n",
       "2019-12-06 00:00:00+00:00  0.010398  0.007335  0.017739  0.008929  0.012013   \n",
       "\n",
       "                               CHIS  \n",
       "date                                 \n",
       "2019-12-02 00:00:00+00:00       NaN  \n",
       "2019-12-03 00:00:00+00:00 -0.008297  \n",
       "2019-12-04 00:00:00+00:00  0.014940  \n",
       "2019-12-05 00:00:00+00:00  0.002907  \n",
       "2019-12-06 00:00:00+00:00  0.010097  "
      ]
     },
     "execution_count": 110,
     "metadata": {},
     "output_type": "execute_result"
    }
   ],
   "source": [
    "china_daily_returns = china_ticker_df.pct_change()\n",
    "china_daily_returns.head()"
   ]
  },
  {
   "cell_type": "code",
   "execution_count": null,
   "metadata": {},
   "outputs": [],
   "source": [
    "us_ticker_df = client.get_dataframe(['SP500','', '', '', '', ''],\n",
    "                                            metric_name='close',\n",
    "                                            startDate= start,\n",
    "                                            endDate= end,\n",
    "                                            frequency='daily')"
   ]
  }
 ],
 "metadata": {
  "kernelspec": {
   "display_name": "Python 3",
   "language": "python",
   "name": "python3"
  },
  "language_info": {
   "codemirror_mode": {
    "name": "ipython",
    "version": 3
   },
   "file_extension": ".py",
   "mimetype": "text/x-python",
   "name": "python",
   "nbconvert_exporter": "python",
   "pygments_lexer": "ipython3",
   "version": "3.7.4"
  }
 },
 "nbformat": 4,
 "nbformat_minor": 4
}
