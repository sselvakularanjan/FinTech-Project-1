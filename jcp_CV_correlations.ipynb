{
 "cells": [
  {
   "cell_type": "code",
   "execution_count": 2,
   "metadata": {},
   "outputs": [
    {
     "ename": "ModuleNotFoundError",
     "evalue": "No module named 'tiingo'",
     "output_type": "error",
     "traceback": [
      "\u001b[0;31m---------------------------------------------------------------------------\u001b[0m",
      "\u001b[0;31mModuleNotFoundError\u001b[0m                       Traceback (most recent call last)",
      "\u001b[0;32m<ipython-input-2-05022f44504d>\u001b[0m in \u001b[0;36m<module>\u001b[0;34m\u001b[0m\n\u001b[1;32m     10\u001b[0m \u001b[0;32mfrom\u001b[0m \u001b[0mpathlib\u001b[0m \u001b[0;32mimport\u001b[0m \u001b[0mPath\u001b[0m\u001b[0;34m\u001b[0m\u001b[0;34m\u001b[0m\u001b[0m\n\u001b[1;32m     11\u001b[0m \u001b[0;32mfrom\u001b[0m \u001b[0mdatetime\u001b[0m \u001b[0;32mimport\u001b[0m \u001b[0mdatetime\u001b[0m\u001b[0;34m,\u001b[0m \u001b[0mtimedelta\u001b[0m\u001b[0;34m\u001b[0m\u001b[0;34m\u001b[0m\u001b[0m\n\u001b[0;32m---> 12\u001b[0;31m \u001b[0;32mfrom\u001b[0m \u001b[0mtiingo\u001b[0m \u001b[0;32mimport\u001b[0m \u001b[0mTiingoClient\u001b[0m\u001b[0;34m\u001b[0m\u001b[0;34m\u001b[0m\u001b[0m\n\u001b[0m\u001b[1;32m     13\u001b[0m \u001b[0;32mimport\u001b[0m \u001b[0mseaborn\u001b[0m \u001b[0;32mas\u001b[0m \u001b[0msb\u001b[0m\u001b[0;34m\u001b[0m\u001b[0;34m\u001b[0m\u001b[0m\n\u001b[1;32m     14\u001b[0m \u001b[0mget_ipython\u001b[0m\u001b[0;34m(\u001b[0m\u001b[0;34m)\u001b[0m\u001b[0;34m.\u001b[0m\u001b[0mrun_line_magic\u001b[0m\u001b[0;34m(\u001b[0m\u001b[0;34m'matplotlib'\u001b[0m\u001b[0;34m,\u001b[0m \u001b[0;34m'inline'\u001b[0m\u001b[0;34m)\u001b[0m\u001b[0;34m\u001b[0m\u001b[0;34m\u001b[0m\u001b[0m\n",
      "\u001b[0;31mModuleNotFoundError\u001b[0m: No module named 'tiingo'"
     ]
    }
   ],
   "source": [
    "# Import Libraries and Dependencies \n",
    "\n",
    "import numpy as np\n",
    "import pandas as pd\n",
    "from datetime import datetime, timedelta\n",
    "import urllib.request\n",
    "import matplotlib.pyplot as plt\n",
    "import os\n",
    "import json\n",
    "from pathlib import Path\n",
    "from datetime import datetime, timedelta\n",
    "from tiingo import TiingoClient\n",
    "import seaborn as sb\n",
    "%matplotlib inline\n",
    "import pandas_montecarlo\n",
    "#pip install --user --upgrade matplotlib\n",
    "#pip install pandas_montecarlo"
   ]
  },
  {
   "cell_type": "code",
   "execution_count": null,
   "metadata": {},
   "outputs": [],
   "source": [
    "# grab data set from url *multipul updates each day make sure we are on current tab....\n",
    "\n",
    "cv_data = pd.read_html('https://docs.google.com/spreadsheets/d/1wQVypefm946ch4XDp37uZ-wartW4V7ILdg-qYiDXUHM/htmlview?usp=sharing&sle=true#')"
   ]
  },
  {
   "cell_type": "code",
   "execution_count": null,
   "metadata": {},
   "outputs": [],
   "source": [
    "#combine all tabs from data set\n",
    "cv_data =pd.concat(cv_data)\n",
    "cv_data"
   ]
  },
  {
   "cell_type": "code",
   "execution_count": null,
   "metadata": {},
   "outputs": [],
   "source": [
    "\n",
    "#remove Strings from 1st row\n",
    "cv_data.drop([0], inplace=True)\n",
    "cv_data"
   ]
  },
  {
   "cell_type": "code",
   "execution_count": null,
   "metadata": {},
   "outputs": [],
   "source": [
    "#drop \"Unnamed:0\"\n",
    "\n",
    "#cv_data =cv_data.drop(columns=['Unnamed: 0','G','H','I'], inplace=True)\n",
    "\n",
    "#cv_data\n",
    "\n",
    "#rename columns in dataframe\n",
    "\n",
    "cv_data = cv_data.rename(columns={\n",
    "    'A':'Province/State',\n",
    "    'B':'Country/Region',\n",
    "    'C':'Last_Update',\n",
    "    'D':'Infected',\n",
    "    'E':'Deaths',\n",
    "    'F':'Recovered',\n",
    "    \n",
    "})"
   ]
  },
  {
   "cell_type": "code",
   "execution_count": null,
   "metadata": {},
   "outputs": [],
   "source": [
    "cv_data.head()"
   ]
  },
  {
   "cell_type": "code",
   "execution_count": null,
   "metadata": {},
   "outputs": [],
   "source": [
    "#set index\n",
    "\n",
    "cv_data =cv_data.set_index('Last_Update')\n",
    "\n",
    "cv_data"
   ]
  },
  {
   "cell_type": "code",
   "execution_count": null,
   "metadata": {},
   "outputs": [],
   "source": [
    "#drop \"Unnamed:0\"\n",
    "\n",
    "cv_data =cv_data.drop(columns=['Unnamed: 0','G','H','I'], inplace=False)\n",
    "\n",
    "\n"
   ]
  },
  {
   "cell_type": "code",
   "execution_count": null,
   "metadata": {},
   "outputs": [],
   "source": [
    "cv_data"
   ]
  },
  {
   "cell_type": "code",
   "execution_count": null,
   "metadata": {},
   "outputs": [],
   "source": [
    "cv_data.isnull()"
   ]
  },
  {
   "cell_type": "code",
   "execution_count": null,
   "metadata": {},
   "outputs": [],
   "source": [
    "cv_data.dropna(inplace=True)\n",
    "cv_data"
   ]
  },
  {
   "cell_type": "code",
   "execution_count": null,
   "metadata": {},
   "outputs": [],
   "source": [
    "cv_data.isnull().sum()\n",
    "cv_data.head()\n",
    "\n",
    "#cv_data['ratio']= cv_data['Deaths']/ cv_data['Confirmed']\n",
    "\n",
    "cv_data.dtypes"
   ]
  },
  {
   "cell_type": "code",
   "execution_count": null,
   "metadata": {},
   "outputs": [],
   "source": [
    "# change types from object to int.\n",
    "#people_df['Person_ID'] = people_df['Person_ID'].astype('int')\n",
    "\n",
    "cv_data['Infected'] = cv_data['Infected'].astype('int')\n",
    "cv_data['Deaths'] = cv_data['Deaths'].astype('int')\n",
    "cv_data['Recovered'] = cv_data['Recovered'].astype('int')\n",
    "\n",
    "cv_data"
   ]
  },
  {
   "cell_type": "code",
   "execution_count": null,
   "metadata": {},
   "outputs": [],
   "source": [
    "cv_data[['Province/State']].duplicated()"
   ]
  },
  {
   "cell_type": "code",
   "execution_count": null,
   "metadata": {},
   "outputs": [],
   "source": [
    "#create a for loop to clean up duplicates for each day and get a running total for that days end.\n",
    "#just use cumprod feature?\n",
    "cv_data_days= cv_data.drop_duplicates(subset=['Province/State'], inplace=False)"
   ]
  },
  {
   "cell_type": "code",
   "execution_count": null,
   "metadata": {},
   "outputs": [],
   "source": [
    "cv_data_days"
   ]
  },
  {
   "cell_type": "code",
   "execution_count": null,
   "metadata": {},
   "outputs": [],
   "source": [
    "cv_data_days['Deaths'].sum()"
   ]
  },
  {
   "cell_type": "code",
   "execution_count": null,
   "metadata": {},
   "outputs": [],
   "source": [
    "cv_data_days['Infected'].sum()"
   ]
  },
  {
   "cell_type": "code",
   "execution_count": null,
   "metadata": {},
   "outputs": [],
   "source": [
    "cv_data_days['Recovered'].sum()"
   ]
  },
  {
   "cell_type": "code",
   "execution_count": null,
   "metadata": {},
   "outputs": [],
   "source": [
    "#add totals of columns together for their individual daily total to be added to df daily\n",
    "# replace index with date use current \n",
    "\n",
    "cv_data_2= cv_data.reset_index()"
   ]
  },
  {
   "cell_type": "code",
   "execution_count": null,
   "metadata": {},
   "outputs": [],
   "source": [
    "cv_data_2\n"
   ]
  },
  {
   "cell_type": "code",
   "execution_count": null,
   "metadata": {},
   "outputs": [],
   "source": [
    "\n",
    "#add new date column to get rid of time stamp\n",
    "cv_data_2['Last_Update']= pd.to_datetime(cv_data_2.Last_Update)\n",
    "cv_data_2['Date']= cv_data_2['Last_Update'].dt.strftime('%m/%d/%Y')\n",
    "print (cv_data_2)\n"
   ]
  },
  {
   "cell_type": "code",
   "execution_count": null,
   "metadata": {},
   "outputs": [],
   "source": [
    "# Set index as 'Date'\n",
    "cv_data_2.set_index('Date')"
   ]
  },
  {
   "cell_type": "code",
   "execution_count": null,
   "metadata": {},
   "outputs": [],
   "source": [
    "cv_data_2.drop(columns=['Last_Update'])"
   ]
  },
  {
   "cell_type": "code",
   "execution_count": null,
   "metadata": {},
   "outputs": [],
   "source": [
    "#drop duplicates in order to get the last value for the day\n",
    "cv_data_2.drop_duplicates(subset=['Province/State', \"Date\"], inplace=True)\n",
    "cv_data_2"
   ]
  },
  {
   "cell_type": "code",
   "execution_count": null,
   "metadata": {},
   "outputs": [],
   "source": [
    "#create new data frame extracting only mainland China info\n",
    "cv_data_china=cv_data_2.loc[cv_data_2['Country/Region']=='Mainland China']\n",
    "cv_data_china"
   ]
  },
  {
   "cell_type": "code",
   "execution_count": null,
   "metadata": {},
   "outputs": [],
   "source": [
    "#Group by 'Date' in order to sum all\n",
    "all_sum_cv = cv_data_china.groupby('Date').sum()"
   ]
  },
  {
   "cell_type": "code",
   "execution_count": null,
   "metadata": {},
   "outputs": [],
   "source": [
    "all_sum_cv.reset_index(inplace=True)"
   ]
  },
  {
   "cell_type": "code",
   "execution_count": null,
   "metadata": {},
   "outputs": [],
   "source": [
    "all_sum_cv.Date = pd.to_datetime(all_sum_cv.Date)"
   ]
  },
  {
   "cell_type": "code",
   "execution_count": null,
   "metadata": {},
   "outputs": [],
   "source": [
    "all_sum_cv.set_index('Date',inplace=True) "
   ]
  },
  {
   "cell_type": "code",
   "execution_count": null,
   "metadata": {},
   "outputs": [],
   "source": [
    "#Find ratio of deaths to confirmed effected\n",
    "#round decimals .000 \n",
    "all_sum_cv['death_ratio']= all_sum_cv['Deaths']/ all_sum_cv['Infected']\n",
    "all_sum_cv['recovered_ratio'] =all_sum_cv['Recovered']/ all_sum_cv['Infected']\n",
    "#decimals =pd.Series ([3,3], index=['death_ratio', 'recovered_ratio'])\n",
    "#cv_data.round(decimals)"
   ]
  },
  {
   "cell_type": "code",
   "execution_count": null,
   "metadata": {},
   "outputs": [],
   "source": [
    "all_sum_cv['recovered/death'] =all_sum_cv['Recovered']/all_sum_cv['Deaths']\n",
    "all_sum_cv.head()"
   ]
  },
  {
   "cell_type": "code",
   "execution_count": null,
   "metadata": {},
   "outputs": [],
   "source": [
    "all_sum_cv.plot()"
   ]
  },
  {
   "cell_type": "code",
   "execution_count": null,
   "metadata": {},
   "outputs": [],
   "source": [
    "##Monte Carlo Simulation on Corona Virus"
   ]
  },
  {
   "cell_type": "code",
   "execution_count": null,
   "metadata": {},
   "outputs": [],
   "source": [
    "#jjp - fixed name\n",
    "infection_change = all_sum_cv.pct_change()"
   ]
  },
  {
   "cell_type": "code",
   "execution_count": null,
   "metadata": {},
   "outputs": [],
   "source": [
    "infection_change.head()"
   ]
  },
  {
   "cell_type": "code",
   "execution_count": null,
   "metadata": {},
   "outputs": [],
   "source": [
    "# below is Stock Data"
   ]
  },
  {
   "cell_type": "code",
   "execution_count": null,
   "metadata": {},
   "outputs": [],
   "source": [
    "# Bring Env Variables into Python/Store in Variable\n",
    "tiingo = os.getenv('TIINGO_API_KEY')"
   ]
  },
  {
   "cell_type": "code",
   "execution_count": null,
   "metadata": {},
   "outputs": [],
   "source": [
    "# Create a Client to Connect to Tiingo\n",
    "client = TiingoClient()"
   ]
  },
  {
   "cell_type": "code",
   "execution_count": null,
   "metadata": {},
   "outputs": [],
   "source": [
    "# Create Start and End Dates for 1 Year's Worth of Historical Data\n",
    "end = datetime.now()\n",
    "start = end + timedelta(-30)"
   ]
  },
  {
   "cell_type": "code",
   "execution_count": null,
   "metadata": {},
   "outputs": [],
   "source": [
    "# Create DataFrames for China\n",
    "china_ticker_df = client.get_dataframe(['ASHR','CQQQ', 'CHIE', 'CHIM', 'KURE', 'CHIS'],\n",
    "                                            metric_name='close',\n",
    "                                            startDate= start,\n",
    "                                            endDate= end,\n",
    "                                            frequency='daily')"
   ]
  },
  {
   "cell_type": "code",
   "execution_count": null,
   "metadata": {},
   "outputs": [],
   "source": [
    "china_df = china_ticker_df.rename(columns={'ASHR':'ASHR (China SH Composite)','CQQQ':'CQQQ (China Technology)', 'CHIE':'CHIE (China Energy)', 'CHIM':'CHIM (China Materials)', 'KURE':'KURE (China Healthcare)', 'CHIS':'CHIS (China Consumer Staples)'})\n",
    "china_df.head()"
   ]
  },
  {
   "cell_type": "code",
   "execution_count": null,
   "metadata": {},
   "outputs": [],
   "source": [
    "# Count/Drop Nulls (if any)\n",
    "china_df.isnull().sum()"
   ]
  },
  {
   "cell_type": "code",
   "execution_count": null,
   "metadata": {},
   "outputs": [],
   "source": [
    "china_df.dropna(inplace=True)\n",
    "china_df.isnull().sum()"
   ]
  },
  {
   "cell_type": "code",
   "execution_count": null,
   "metadata": {},
   "outputs": [],
   "source": [
    "china_daily_returns = china_df.pct_change()\n",
    "china_daily_returns.head()"
   ]
  },
  {
   "cell_type": "code",
   "execution_count": null,
   "metadata": {},
   "outputs": [],
   "source": [
    "us_ticker_df = client.get_dataframe(['SPY','IGM', 'IYE', 'IYM', 'IYH', 'IECS'],\n",
    "                                            metric_name='close',\n",
    "                                            startDate= start,\n",
    "                                            endDate= end,\n",
    "                                            frequency='daily')"
   ]
  },
  {
   "cell_type": "code",
   "execution_count": null,
   "metadata": {},
   "outputs": [],
   "source": [
    "us_df = us_ticker_df.rename(columns={'SPY':'SPY (USA SP500 Composite)', 'IGM':'IGM (USA Technology)', 'IYE':'IYE (USA Energy)', 'IYM':'IYM (USA Materials)', 'IYH':'IYH (USA Healthcare)', 'IECS':'IECS (USA Consumer Staples)'})\n",
    "\n",
    "us_df.head()"
   ]
  },
  {
   "cell_type": "code",
   "execution_count": null,
   "metadata": {},
   "outputs": [],
   "source": [
    "us_daily_returns = us_df.pct_change()\n",
    "us_daily_returns.head()"
   ]
  },
  {
   "cell_type": "code",
   "execution_count": null,
   "metadata": {},
   "outputs": [],
   "source": [
    "china_daily_returns.plot(title=\"Daily Returns for China ETFs\")"
   ]
  },
  {
   "cell_type": "code",
   "execution_count": null,
   "metadata": {},
   "outputs": [],
   "source": [
    "us_daily_returns.plot(title=\"Daily Returns for US ETFs\")"
   ]
  },
  {
   "cell_type": "code",
   "execution_count": null,
   "metadata": {},
   "outputs": [],
   "source": [
    "china_std = china_daily_returns.std()\n",
    "china_std"
   ]
  },
  {
   "cell_type": "code",
   "execution_count": null,
   "metadata": {},
   "outputs": [],
   "source": [
    "us_std = us_daily_returns.std()\n",
    "us_std"
   ]
  },
  {
   "cell_type": "code",
   "execution_count": null,
   "metadata": {},
   "outputs": [],
   "source": [
    "china_std.plot.bar()"
   ]
  },
  {
   "cell_type": "code",
   "execution_count": null,
   "metadata": {},
   "outputs": [],
   "source": [
    "us_std.plot.bar()"
   ]
  },
  {
   "cell_type": "code",
   "execution_count": null,
   "metadata": {},
   "outputs": [],
   "source": [
    "#only need to run this once to normalize the \n",
    "all_sum_cv.index = all_sum_cv.index.tz_localize('UTC')"
   ]
  },
  {
   "cell_type": "code",
   "execution_count": null,
   "metadata": {},
   "outputs": [],
   "source": [
    "## Correlation Studies"
   ]
  },
  {
   "cell_type": "code",
   "execution_count": null,
   "metadata": {},
   "outputs": [],
   "source": [
    "china_cv_raw_df = pd.concat([china_df, all_sum_cv], axis=1, sort=True)\n",
    "china_cv_raw_df.dropna(inplace=True)"
   ]
  },
  {
   "cell_type": "code",
   "execution_count": null,
   "metadata": {},
   "outputs": [],
   "source": [
    "usa_cv_raw_df = pd.concat([us_df, all_sum_cv], axis=1, sort=True)\n",
    "usa_cv_raw_df.dropna(inplace=True)"
   ]
  },
  {
   "cell_type": "code",
   "execution_count": null,
   "metadata": {},
   "outputs": [],
   "source": [
    "usa_china_raw_df = pd.concat([us_df, china_df], axis=1, sort=True)\n",
    "usa_china_raw_df.dropna(inplace=True)"
   ]
  },
  {
   "cell_type": "code",
   "execution_count": null,
   "metadata": {},
   "outputs": [],
   "source": [
    "all_data_raw_df = pd.concat([us_df, china_df, all_sum_cv], axis=1, sort=True)\n",
    "all_data_raw_df.dropna(inplace=True)\n",
    "#may need to take out duplicates"
   ]
  },
  {
   "cell_type": "code",
   "execution_count": null,
   "metadata": {},
   "outputs": [],
   "source": [
    "# China and the Coronavirus Correlations\n",
    "#help from: https://levelup.gitconnected.com/pearson-coefficient-of-correlation-using-pandas-ca68ce678c04\n",
    "#help from https://datascience.stackexchange.com/questions/17540/make-seaborn-heatmap-bigger\n",
    "china_correl = china_cv_raw_df.pct_change().corr(method='pearson')\n",
    "\n",
    "fig = plt.gcf()\n",
    "figsize = fig.get_size_inches()\n",
    "fig.set_size_inches(figsize * 2)\n",
    "sb.heatmap(china_correl, \n",
    "            xticklabels=china_correl.columns,\n",
    "            yticklabels=china_correl.columns,\n",
    "            cmap='RdBu_r',\n",
    "            annot=True,\n",
    "            linewidth=0.5)"
   ]
  },
  {
   "cell_type": "code",
   "execution_count": null,
   "metadata": {},
   "outputs": [],
   "source": [
    "# USA and the Coronavirus Correlations\n",
    "#help from: https://levelup.gitconnected.com/pearson-coefficient-of-correlation-using-pandas-ca68ce678c04\n",
    "#help from https://datascience.stackexchange.com/questions/17540/make-seaborn-heatmap-bigger\n",
    "usa_correl = usa_cv_raw_df.pct_change().corr(method='pearson')\n",
    "\n",
    "fig = plt.gcf()\n",
    "figsize = fig.get_size_inches()\n",
    "fig.set_size_inches(figsize * 2)\n",
    "sb.heatmap(usa_correl, \n",
    "            xticklabels=usa_correl.columns,\n",
    "            yticklabels=usa_correl.columns,\n",
    "            cmap='RdBu_r',\n",
    "            annot=True,\n",
    "            linewidth=0.5)"
   ]
  },
  {
   "cell_type": "code",
   "execution_count": null,
   "metadata": {},
   "outputs": [],
   "source": [
    "# China and the USA Correlations\n",
    "#help from: https://levelup.gitconnected.com/pearson-coefficient-of-correlation-using-pandas-ca68ce678c04\n",
    "#help from https://datascience.stackexchange.com/questions/17540/make-seaborn-heatmap-bigger\n",
    "usa_china_correl = usa_china_raw_df.pct_change().corr(method='pearson')\n",
    "fig = plt.gcf()\n",
    "figsize = fig.get_size_inches()\n",
    "fig.set_size_inches(figsize * 2)\n",
    "sb.heatmap(usa_china_correl, \n",
    "            xticklabels=usa_china_correl.columns,\n",
    "            yticklabels=usa_china_correl.columns,\n",
    "            cmap='RdBu_r',\n",
    "            annot=True,\n",
    "            linewidth=0.5)"
   ]
  },
  {
   "cell_type": "code",
   "execution_count": null,
   "metadata": {},
   "outputs": [],
   "source": [
    "mc_corona = all_sum_cv['Infected'].montecarlo(sims=100, bust=-0.1, goal=1)"
   ]
  },
  {
   "cell_type": "code",
   "execution_count": null,
   "metadata": {},
   "outputs": [],
   "source": [
    "mc_corona.plot()"
   ]
  },
  {
   "cell_type": "code",
   "execution_count": null,
   "metadata": {},
   "outputs": [],
   "source": [
    "df_mc_corona =  mc_corona.data"
   ]
  },
  {
   "cell_type": "code",
   "execution_count": null,
   "metadata": {},
   "outputs": [],
   "source": [
    "df_all_data_pct_chg = all_data_raw_df.pct_change()*100"
   ]
  },
  {
   "cell_type": "code",
   "execution_count": null,
   "metadata": {},
   "outputs": [],
   "source": [
    "plt.hist(df_all_data_pct_chg['SPY (USA SP500 Composite)'])"
   ]
  },
  {
   "cell_type": "code",
   "execution_count": null,
   "metadata": {},
   "outputs": [],
   "source": [
    "plt.hist(df_all_data_pct_chg['ASHR (China SH Composite)'])"
   ]
  },
  {
   "cell_type": "code",
   "execution_count": null,
   "metadata": {},
   "outputs": [],
   "source": [
    "plt.hist(df_all_data_pct_chg['recovered_ratio'])"
   ]
  },
  {
   "cell_type": "markdown",
   "metadata": {},
   "source": [
    "# Plot of China/ US composites over Coronavirus Infection rate"
   ]
  },
  {
   "cell_type": "code",
   "execution_count": null,
   "metadata": {},
   "outputs": [],
   "source": [
    "#created a double y axis chart to show percentage changes of market versus coronovirus\n",
    "#looked for help on: https://stackoverflow.com/questions/14762181/adding-a-y-axis-label-to-secondary-y-axis-in-matplotlib/14762601\n",
    "import matplotlib.ticker as mtick\n",
    "\n",
    "x = df_all_data_pct_chg.index\n",
    "y1 = df_all_data_pct_chg['ASHR (China SH Composite)']\n",
    "y2 = df_all_data_pct_chg['SPY (USA SP500 Composite)']\n",
    "y3 = df_all_data_pct_chg['Infected']\n",
    "\n",
    "fig, ax1 = plt.subplots(figsize=(10,5))\n",
    "\n",
    "ax2 = ax1.twinx()\n",
    "ax1.plot(x, y1, 'g-', y2, 'b-')\n",
    "ax2.plot(x, y3, 'r-')\n",
    "                   \n",
    "ax1.set_title('Daily Percent Change of Markets and Coronoavirus')\n",
    "ax1.set_xlabel('Trade Days')\n",
    "ax1.set_ylabel('Trade Index Daily Percent Change', color='g')\n",
    "ax2.set_ylabel('Coronoavirus Daily Percent Change', color='r')\n",
    "\n",
    "ax2.set_ylim(-25, 175)\n",
    "\n",
    "fig.autofmt_xdate()\n",
    "\n",
    "ax1.yaxis.set_major_formatter(mtick.PercentFormatter())\n",
    "ax2.yaxis.set_major_formatter(mtick.PercentFormatter())\n",
    "\n",
    "#looked up how to create custom legend: https://matplotlib.org/3.1.1/gallery/text_labels_and_annotations/custom_legends.html\n",
    "#looked up how to lock legend out of chart: https://pythonspot.com/matplotlib-legend/\n",
    "from matplotlib.lines import Line2D\n",
    "custom_lines = [Line2D([0], [0], color='g', lw=4),\n",
    "                Line2D([0], [0], color='b', lw=4),\n",
    "                Line2D([0], [0], color='r', lw=4)]\n",
    "ax1.legend(custom_lines, ['ASHR China SH Composite', 'SPY (USA SP500 Composite)', 'Infected'], loc='upper center', bbox_to_anchor=(0.5, -.33),shadow=True, ncol=2)\n",
    "\n",
    "plt.show()"
   ]
  },
  {
   "cell_type": "markdown",
   "metadata": {},
   "source": [
    "# Plot of Energy sectors over Daily infection rate of Coronavirus"
   ]
  },
  {
   "cell_type": "code",
   "execution_count": null,
   "metadata": {},
   "outputs": [],
   "source": [
    "#created a double y axis chart to show percentage changes of market versus coronovirus\n",
    "#looked for help on: https://stackoverflow.com/questions/14762181/adding-a-y-axis-label-to-secondary-y-axis-in-matplotlib/14762601\n",
    "import matplotlib.ticker as mtick\n",
    "\n",
    "x = df_all_data_pct_chg.index\n",
    "y1 = df_all_data_pct_chg['CHIE (China Energy)']\n",
    "y2 = df_all_data_pct_chg['IYE (USA Energy)']\n",
    "y3 = df_all_data_pct_chg['Infected']\n",
    "\n",
    "fig, ax1 = plt.subplots(figsize=(10,5))\n",
    "\n",
    "ax2 = ax1.twinx()\n",
    "ax1.plot(x, y1, 'g-', y2, 'b-')\n",
    "ax2.plot(x, y3, 'r-')\n",
    "                   \n",
    "ax1.set_title('Daily Percent Change of Markets and Coronoavirus')\n",
    "ax1.set_xlabel('Trade Days')\n",
    "ax1.set_ylabel('Trade Index Daily Percent Change', color='g')\n",
    "ax2.set_ylabel('Coronoavirus Daily Percent Change', color='r')\n",
    "\n",
    "ax2.set_ylim(-25, 175)\n",
    "\n",
    "fig.autofmt_xdate()\n",
    "\n",
    "ax1.yaxis.set_major_formatter(mtick.PercentFormatter())\n",
    "ax2.yaxis.set_major_formatter(mtick.PercentFormatter())\n",
    "\n",
    "#looked up how to create custom legend: https://matplotlib.org/3.1.1/gallery/text_labels_and_annotations/custom_legends.html\n",
    "#looked up how to lock legend out of chart: https://pythonspot.com/matplotlib-legend/\n",
    "from matplotlib.lines import Line2D\n",
    "custom_lines = [Line2D([0], [0], color='g', lw=4),\n",
    "                Line2D([0], [0], color='b', lw=4),\n",
    "                Line2D([0], [0], color='r', lw=4)]\n",
    "ax1.legend(custom_lines, ['CHIE (China Energy)', 'IYE (USA Energy)', 'Infected'], loc='upper center', bbox_to_anchor=(0.5, -.33),shadow=True, ncol=2)\n",
    "\n",
    "plt.show()"
   ]
  },
  {
   "cell_type": "markdown",
   "metadata": {},
   "source": [
    "# Plot of Energy sectors over recovery rate of Corona Virus"
   ]
  },
  {
   "cell_type": "code",
   "execution_count": null,
   "metadata": {},
   "outputs": [],
   "source": [
    "#created a double y axis chart to show percentage changes of market versus coronovirus\n",
    "#looked for help on: https://stackoverflow.com/questions/14762181/adding-a-y-axis-label-to-secondary-y-axis-in-matplotlib/14762601\n",
    "import matplotlib.ticker as mtick\n",
    "\n",
    "x = df_all_data_pct_chg.index\n",
    "y1 = df_all_data_pct_chg['CHIE (China Energy)']\n",
    "y2 = df_all_data_pct_chg['IYE (USA Energy)']\n",
    "y3 = df_all_data_pct_chg['recovered_ratio']\n",
    "\n",
    "fig, ax1 = plt.subplots(figsize=(10,5))\n",
    "\n",
    "ax2 = ax1.twinx()\n",
    "ax1.plot(x, y1, 'g-', y2, 'b-')\n",
    "ax2.plot(x, y3, 'r-')\n",
    "                   \n",
    "ax1.set_title('Daily Percent Change of Markets and Coronoavirus')\n",
    "ax1.set_xlabel('Trade Days')\n",
    "ax1.set_ylabel('Trade Index Daily Percent Change', color='g')\n",
    "ax2.set_ylabel('Coronoavirus Daily Percent Change', color='r')\n",
    "\n",
    "ax2.set_ylim(-100, 175)\n",
    "\n",
    "fig.autofmt_xdate()\n",
    "\n",
    "ax1.yaxis.set_major_formatter(mtick.PercentFormatter())\n",
    "ax2.yaxis.set_major_formatter(mtick.PercentFormatter())\n",
    "\n",
    "#looked up how to create custom legend: https://matplotlib.org/3.1.1/gallery/text_labels_and_annotations/custom_legends.html\n",
    "#looked up how to lock legend out of chart: https://pythonspot.com/matplotlib-legend/\n",
    "from matplotlib.lines import Line2D\n",
    "custom_lines = [Line2D([0], [0], color='g', lw=4),\n",
    "                Line2D([0], [0], color='b', lw=4),\n",
    "                Line2D([0], [0], color='r', lw=4)]\n",
    "ax1.legend(custom_lines, ['CHIE (China Energy)', 'IYE (USA Energy)', 'recovered_ratio'], loc='upper center', bbox_to_anchor=(0.5, -.33),shadow=True, ncol=2)\n",
    "\n",
    "plt.show()"
   ]
  },
  {
   "cell_type": "markdown",
   "metadata": {},
   "source": [
    "# Plot of Tech markets over infection rate of Corona Virus"
   ]
  },
  {
   "cell_type": "code",
   "execution_count": null,
   "metadata": {
    "collapsed": true,
    "jupyter": {
     "outputs_hidden": true
    }
   },
   "outputs": [],
   "source": [
    "x = df_all_data_pct_chg.index\n",
    "y1 = df_all_data_pct_chg['CQQQ (China Technology)']\n",
    "y2 = df_all_data_pct_chg['IGM (USA Technology)']\n",
    "y3 = df_all_data_pct_chg['Infected']\n",
    "\n",
    "fig, ax1 = plt.subplots(figsize=(10,5))\n",
    "\n",
    "ax2 = ax1.twinx()\n",
    "ax1.plot(x, y1, 'g-', y2, 'b-')\n",
    "ax2.plot(x, y3, 'r-')\n",
    "                   \n",
    "ax1.set_title('Tech Markets VS Infection Rate')\n",
    "ax1.set_xlabel('Trade Days')\n",
    "ax1.set_ylabel('Trade Index Daily Percent Change', color='g')\n",
    "ax2.set_ylabel('Coronoavirus Daily Percent Change', color='r')\n",
    "\n",
    "ax2.set_ylim(-25, 175)\n",
    "\n",
    "fig.autofmt_xdate()\n",
    "\n",
    "ax1.yaxis.set_major_formatter(mtick.PercentFormatter())\n",
    "ax2.yaxis.set_major_formatter(mtick.PercentFormatter())\n",
    "\n",
    "#looked up how to create custom legend: https://matplotlib.org/3.1.1/gallery/text_labels_and_annotations/custom_legends.html\n",
    "#looked up how to lock legend out of chart: https://pythonspot.com/matplotlib-legend/\n",
    "from matplotlib.lines import Line2D\n",
    "custom_lines = [Line2D([0], [0], color='g', lw=4),\n",
    "                Line2D([0], [0], color='b', lw=4),\n",
    "                Line2D([0], [0], color='r', lw=4)]\n",
    "ax1.legend(custom_lines, ['CQQQ China Tech.', 'IGM USA Tech.', 'Infected'], loc='upper center', bbox_to_anchor=(0.5, -.33),shadow=True, ncol=2)\n",
    "\n",
    "plt.show()"
   ]
  },
  {
   "cell_type": "markdown",
   "metadata": {},
   "source": [
    "# Plot of Tech markets over recovery rate of Corona Virus"
   ]
  },
  {
   "cell_type": "code",
   "execution_count": null,
   "metadata": {},
   "outputs": [],
   "source": [
    "x = df_all_data_pct_chg.index\n",
    "y1 = df_all_data_pct_chg['CQQQ (China Technology)']\n",
    "y2 = df_all_data_pct_chg['IGM (USA Technology)']\n",
    "y3 = df_all_data_pct_chg['recovered_ratio']\n",
    "\n",
    "fig, ax1 = plt.subplots(figsize=(10,5))\n",
    "\n",
    "ax2 = ax1.twinx()\n",
    "ax1.plot(x, y1, 'g-', y2, 'b-')\n",
    "ax2.plot(x, y3, 'r-')\n",
    "                   \n",
    "ax1.set_title('Tech Markets VS Recovery Ratio')\n",
    "ax1.set_xlabel('Trade Days')\n",
    "ax1.set_ylabel('Trade Index Daily Percent Change', color='g')\n",
    "ax2.set_ylabel('Coronoavirus Daily Percent Change', color='r')\n",
    "\n",
    "ax2.set_ylim(-25, 175)\n",
    "\n",
    "fig.autofmt_xdate()\n",
    "\n",
    "ax1.yaxis.set_major_formatter(mtick.PercentFormatter())\n",
    "ax2.yaxis.set_major_formatter(mtick.PercentFormatter())\n",
    "\n",
    "#looked up how to create custom legend: https://matplotlib.org/3.1.1/gallery/text_labels_and_annotations/custom_legends.html\n",
    "#looked up how to lock legend out of chart: https://pythonspot.com/matplotlib-legend/\n",
    "from matplotlib.lines import Line2D\n",
    "custom_lines = [Line2D([0], [0], color='g', lw=4),\n",
    "                Line2D([0], [0], color='b', lw=4),\n",
    "                Line2D([0], [0], color='r', lw=4)]\n",
    "ax1.legend(custom_lines, ['CQQQ China Tech.', 'IGM USA Tech.', 'Recovery Ratio'], loc='upper center', bbox_to_anchor=(0.5, -.33),shadow=True, ncol=2)\n",
    "\n",
    "plt.show()"
   ]
  },
  {
   "cell_type": "markdown",
   "metadata": {},
   "source": [
    "# Plot of Materials Markets VS Infection Rate"
   ]
  },
  {
   "cell_type": "code",
   "execution_count": null,
   "metadata": {},
   "outputs": [],
   "source": [
    "x = df_all_data_pct_chg.index\n",
    "y1 = df_all_data_pct_chg['CHIM (China Materials)']\n",
    "y2 = df_all_data_pct_chg['ITM (USA Materials)']\n",
    "y3 = df_all_data_pct_chg['Infected']\n",
    "\n",
    "fig, ax1 = plt.subplots(figsize=(10,5))\n",
    "\n",
    "ax2 = ax1.twinx()\n",
    "ax1.plot(x, y1, 'g-', y2, 'b-')\n",
    "ax2.plot(x, y3, 'r-')\n",
    "                   \n",
    "ax1.set_title('MAterials Market VS Infection Rate')\n",
    "ax1.set_xlabel('Trade Days')\n",
    "ax1.set_ylabel('Trade Index Daily Percent Change', color='g')\n",
    "ax2.set_ylabel('Coronoavirus Daily Percent Change', color='r')\n",
    "\n",
    "ax2.set_ylim(-25, 175)\n",
    "\n",
    "fig.autofmt_xdate()\n",
    "\n",
    "ax1.yaxis.set_major_formatter(mtick.PercentFormatter())\n",
    "ax2.yaxis.set_major_formatter(mtick.PercentFormatter())\n",
    "\n",
    "#looked up how to create custom legend: https://matplotlib.org/3.1.1/gallery/text_labels_and_annotations/custom_legends.html\n",
    "#looked up how to lock legend out of chart: https://pythonspot.com/matplotlib-legend/\n",
    "from matplotlib.lines import Line2D\n",
    "custom_lines = [Line2D([0], [0], color='g', lw=4),\n",
    "                Line2D([0], [0], color='b', lw=4),\n",
    "                Line2D([0], [0], color='r', lw=4)]\n",
    "ax1.legend(custom_lines, ['CHIM China Materials', 'IYM USA Materials', 'Infected'], loc='upper center', bbox_to_anchor=(0.5, -.33),shadow=True, ncol=2)\n",
    "\n",
    "plt.show()"
   ]
  },
  {
   "cell_type": "markdown",
   "metadata": {},
   "source": [
    "# Plot of Materials Markets Vs Recovery Rate of Corona Virus"
   ]
  },
  {
   "cell_type": "code",
   "execution_count": null,
   "metadata": {},
   "outputs": [],
   "source": [
    "x = df_all_data_pct_chg.index\n",
    "y1 = df_all_data_pct_chg['CHIM (China Materials)']\n",
    "y2 = df_all_data_pct_chg['IYM (USA Materials)']\n",
    "y3 = df_all_data_pct_chg['recovered_ratio']\n",
    "\n",
    "fig, ax1 = plt.subplots(figsize=(10,5))\n",
    "\n",
    "ax2 = ax1.twinx()\n",
    "ax1.plot(x, y1, 'g-', y2, 'b-')\n",
    "ax2.plot(x, y3, 'r-')\n",
    "                   \n",
    "ax1.set_title('Materials Market Vs Recovery Rate')\n",
    "ax1.set_xlabel('Trade Days')\n",
    "ax1.set_ylabel('Trade Index Daily Percent Change', color='g')\n",
    "ax2.set_ylabel('Coronoavirus Daily Percent Change', color='r')\n",
    "\n",
    "ax2.set_ylim(-25, 175)\n",
    "\n",
    "fig.autofmt_xdate()\n",
    "\n",
    "ax1.yaxis.set_major_formatter(mtick.PercentFormatter())\n",
    "ax2.yaxis.set_major_formatter(mtick.PercentFormatter())\n",
    "\n",
    "#looked up how to create custom legend: https://matplotlib.org/3.1.1/gallery/text_labels_and_annotations/custom_legends.html\n",
    "#looked up how to lock legend out of chart: https://pythonspot.com/matplotlib-legend/\n",
    "from matplotlib.lines import Line2D\n",
    "custom_lines = [Line2D([0], [0], color='g', lw=4),\n",
    "                Line2D([0], [0], color='b', lw=4),\n",
    "                Line2D([0], [0], color='r', lw=4)]\n",
    "ax1.legend(custom_lines, ['CHIM CHina Materials', 'IYM USA Materials', 'Recovered'], loc='upper center', bbox_to_anchor=(0.5, -.33),shadow=True, ncol=2)\n",
    "\n",
    "plt.show()"
   ]
  },
  {
   "cell_type": "markdown",
   "metadata": {},
   "source": [
    "# Plot of Healthcare Markets Vs Infection Rate "
   ]
  },
  {
   "cell_type": "code",
   "execution_count": null,
   "metadata": {},
   "outputs": [],
   "source": [
    "x = df_all_data_pct_chg.index\n",
    "y1 = df_all_data_pct_chg['KURE (China Healthcare)']\n",
    "y2 = df_all_data_pct_chg['IYH (USA Healthcare)']\n",
    "y3 = df_all_data_pct_chg['Infected']\n",
    "\n",
    "fig, ax1 = plt.subplots(figsize=(10,5))\n",
    "\n",
    "ax2 = ax1.twinx()\n",
    "ax1.plot(x, y1, 'g-', y2, 'b-')\n",
    "ax2.plot(x, y3, 'r-')\n",
    "                   \n",
    "ax1.set_title('Healthcare Markets Vs Infection rate')\n",
    "ax1.set_xlabel('Trade Days')\n",
    "ax1.set_ylabel('Trade Index Daily Percent Change', color='g')\n",
    "ax2.set_ylabel('Coronoavirus Daily Percent Change', color='r')\n",
    "\n",
    "ax2.set_ylim(-25, 175)\n",
    "\n",
    "fig.autofmt_xdate()\n",
    "\n",
    "ax1.yaxis.set_major_formatter(mtick.PercentFormatter())\n",
    "ax2.yaxis.set_major_formatter(mtick.PercentFormatter())\n",
    "\n",
    "#looked up how to create custom legend: https://matplotlib.org/3.1.1/gallery/text_labels_and_annotations/custom_legends.html\n",
    "#looked up how to lock legend out of chart: https://pythonspot.com/matplotlib-legend/\n",
    "from matplotlib.lines import Line2D\n",
    "custom_lines = [Line2D([0], [0], color='g', lw=4),\n",
    "                Line2D([0], [0], color='b', lw=4),\n",
    "                Line2D([0], [0], color='r', lw=4)]\n",
    "ax1.legend(custom_lines, ['KURE China Healthecare', 'IYH USA Healthcare', 'Infected'], loc='upper center', bbox_to_anchor=(0.5, -.33),shadow=True, ncol=2)\n",
    "\n",
    "plt.show()"
   ]
  },
  {
   "cell_type": "markdown",
   "metadata": {},
   "source": [
    "# Plot of Healthcare Markets Vs Recovery Rate"
   ]
  },
  {
   "cell_type": "code",
   "execution_count": null,
   "metadata": {},
   "outputs": [],
   "source": [
    "x = df_all_data_pct_chg.index\n",
    "y1 = df_all_data_pct_chg['KURE (China Healthecare)']\n",
    "y2 = df_all_data_pct_chg['IYH (USA Healthcare)']\n",
    "y3 = df_all_data_pct_chg['recovered_ratio']\n",
    "\n",
    "fig, ax1 = plt.subplots(figsize=(10,5))\n",
    "\n",
    "ax2 = ax1.twinx()\n",
    "ax1.plot(x, y1, 'g-', y2, 'b-')\n",
    "ax2.plot(x, y3, 'r-')\n",
    "                   \n",
    "ax1.set_title('Healthcare Markets Vs Recovery Rate')\n",
    "ax1.set_xlabel('Trade Days')\n",
    "ax1.set_ylabel('Trade Index Daily Percent Change', color='g')\n",
    "ax2.set_ylabel('Coronoavirus Daily Percent Change', color='r')\n",
    "\n",
    "ax2.set_ylim(-25, 175)\n",
    "\n",
    "fig.autofmt_xdate()\n",
    "\n",
    "ax1.yaxis.set_major_formatter(mtick.PercentFormatter())\n",
    "ax2.yaxis.set_major_formatter(mtick.PercentFormatter())\n",
    "\n",
    "#looked up how to create custom legend: https://matplotlib.org/3.1.1/gallery/text_labels_and_annotations/custom_legends.html\n",
    "#looked up how to lock legend out of chart: https://pythonspot.com/matplotlib-legend/\n",
    "from matplotlib.lines import Line2D\n",
    "custom_lines = [Line2D([0], [0], color='g', lw=4),\n",
    "                Line2D([0], [0], color='b', lw=4),\n",
    "                Line2D([0], [0], color='r', lw=4)]\n",
    "ax1.legend(custom_lines, ['KURE China Healthcare', 'IYH USA Healthcare', 'Recovered'], loc='upper center', bbox_to_anchor=(0.5, -.33),shadow=True, ncol=2)\n",
    "\n",
    "plt.show()"
   ]
  },
  {
   "cell_type": "markdown",
   "metadata": {},
   "source": [
    "# Plot of Consumer Staples Markets Vs Infection Rate"
   ]
  },
  {
   "cell_type": "code",
   "execution_count": null,
   "metadata": {},
   "outputs": [],
   "source": [
    "x = df_all_data_pct_chg.index\n",
    "y1 = df_all_data_pct_chg['CHIS (China Consumer Staples']\n",
    "y2 = df_all_data_pct_chg['IECS (USA Consumer Staples)']\n",
    "y3 = df_all_data_pct_chg['Infected']\n",
    "\n",
    "fig, ax1 = plt.subplots(figsize=(10,5))\n",
    "\n",
    "ax2 = ax1.twinx()\n",
    "ax1.plot(x, y1, 'g-', y2, 'b-')\n",
    "ax2.plot(x, y3, 'r-')\n",
    "                   \n",
    "ax1.set_title('Consumer Staples Vs Infection rate')\n",
    "ax1.set_xlabel('Trade Days')\n",
    "ax1.set_ylabel('Trade Index Daily Percent Change', color='g')\n",
    "ax2.set_ylabel('Coronoavirus Daily Percent Change', color='r')\n",
    "\n",
    "ax2.set_ylim(-25, 175)\n",
    "\n",
    "fig.autofmt_xdate()\n",
    "\n",
    "ax1.yaxis.set_major_formatter(mtick.PercentFormatter())\n",
    "ax2.yaxis.set_major_formatter(mtick.PercentFormatter())\n",
    "\n",
    "#looked up how to create custom legend: https://matplotlib.org/3.1.1/gallery/text_labels_and_annotations/custom_legends.html\n",
    "#looked up how to lock legend out of chart: https://pythonspot.com/matplotlib-legend/\n",
    "from matplotlib.lines import Line2D\n",
    "custom_lines = [Line2D([0], [0], color='g', lw=4),\n",
    "                Line2D([0], [0], color='b', lw=4),\n",
    "                Line2D([0], [0], color='r', lw=4)]\n",
    "ax1.legend(custom_lines, ['CHIS China Consumer Satples', 'IECS USA Consumer Staples', 'Infected'], loc='upper center', bbox_to_anchor=(0.5, -.33),shadow=True, ncol=2)\n",
    "\n",
    "plt.show()"
   ]
  },
  {
   "cell_type": "markdown",
   "metadata": {},
   "source": [
    "# Plot of Consumer Staples Markets Vs Recovery Rate"
   ]
  },
  {
   "cell_type": "code",
   "execution_count": null,
   "metadata": {},
   "outputs": [],
   "source": [
    "x = df_all_data_pct_chg.index\n",
    "y1 = df_all_data_pct_chg['CHIS (China Consumer Staples)']\n",
    "y2 = df_all_data_pct_chg['IECS (USA Consumer Staples)']\n",
    "y3 = df_all_data_pct_chg['recovered_ratio']\n",
    "\n",
    "fig, ax1 = plt.subplots(figsize=(10,5))\n",
    "\n",
    "ax2 = ax1.twinx()\n",
    "ax1.plot(x, y1, 'g-', y2, 'b-')\n",
    "ax2.plot(x, y3, 'r-')\n",
    "                   \n",
    "ax1.set_title('Consumer Staples Vs. Recovery Ratio')\n",
    "ax1.set_xlabel('Trade Days')\n",
    "ax1.set_ylabel('Trade Index Daily Percent Change', color='g')\n",
    "ax2.set_ylabel('Coronoavirus Daily Percent Change', color='r')\n",
    "\n",
    "ax2.set_ylim(-25, 175)\n",
    "\n",
    "fig.autofmt_xdate()\n",
    "\n",
    "ax1.yaxis.set_major_formatter(mtick.PercentFormatter())\n",
    "ax2.yaxis.set_major_formatter(mtick.PercentFormatter())\n",
    "\n",
    "#looked up how to create custom legend: https://matplotlib.org/3.1.1/gallery/text_labels_and_annotations/custom_legends.html\n",
    "#looked up how to lock legend out of chart: https://pythonspot.com/matplotlib-legend/\n",
    "from matplotlib.lines import Line2D\n",
    "custom_lines = [Line2D([0], [0], color='g', lw=4),\n",
    "                Line2D([0], [0], color='b', lw=4),\n",
    "                Line2D([0], [0], color='r', lw=4)]\n",
    "ax1.legend(custom_lines, ['CHIS China Consumer Staples', 'IECS USA Consumer Staples', 'Recovered'], loc='upper center', bbox_to_anchor=(0.5, -.33),shadow=True, ncol=2)\n",
    "\n",
    "plt.show()"
   ]
  }
 ],
 "metadata": {
  "kernelspec": {
   "display_name": "Python 3",
   "language": "python",
   "name": "python3"
  },
  "language_info": {
   "codemirror_mode": {
    "name": "ipython",
    "version": 3
   },
   "file_extension": ".py",
   "mimetype": "text/x-python",
   "name": "python",
   "nbconvert_exporter": "python",
   "pygments_lexer": "ipython3",
   "version": "3.7.4"
  }
 },
 "nbformat": 4,
 "nbformat_minor": 4
}
