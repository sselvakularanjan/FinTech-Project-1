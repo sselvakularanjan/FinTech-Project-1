{
 "cells": [
  {
   "cell_type": "code",
   "execution_count": 1,
   "metadata": {},
   "outputs": [],
   "source": [
    "# Import Libraries and Dependencies \n",
    "import pandas as pd\n",
    "import numpy as np \n",
    "import os\n",
    "import json\n",
    "from pathlib import Path\n",
    "from datetime import datetime, timedelta\n",
    "from tiingo import TiingoClient\n",
    "%matplotlib inline"
   ]
  },
  {
   "cell_type": "code",
   "execution_count": 2,
   "metadata": {},
   "outputs": [],
   "source": [
    "# Bring Env Variables into Python/Store in Variable\n",
    "tiingo = os.getenv('TIINGO_API_KEY')"
   ]
  },
  {
   "cell_type": "code",
   "execution_count": 3,
   "metadata": {},
   "outputs": [],
   "source": [
    "# Create a Client to Connect to Tiingo\n",
    "client = TiingoClient()"
   ]
  },
  {
   "cell_type": "markdown",
   "metadata": {},
   "source": [
    "# Data Collection for US Stocks"
   ]
  },
  {
   "cell_type": "code",
   "execution_count": 4,
   "metadata": {},
   "outputs": [],
   "source": [
    "# Create Start and End Dates for 1 Year's Worth of Historical Data\n",
    "end = datetime.now()\n",
    "start = end + timedelta(-365)"
   ]
  },
  {
   "cell_type": "code",
   "execution_count": 5,
   "metadata": {},
   "outputs": [
    {
     "name": "stderr",
     "output_type": "stream",
     "text": [
      "C:\\Users\\selva\\Anaconda3\\lib\\site-packages\\tiingo\\api.py:270: FutureWarning: Sorting because non-concatenation axis is not aligned. A future version\n",
      "of pandas will change to not sort by default.\n",
      "\n",
      "To accept the future behavior, pass 'sort=False'.\n",
      "\n",
      "To retain the current behavior and silence the warning, pass 'sort=True'.\n",
      "\n",
      "  prices = pd.concat([prices, df[stock]], axis=1)\n"
     ]
    }
   ],
   "source": [
    "# Create DataFrames for China\n",
    "us_ticker_df = client.get_dataframe(['SPY','IGM', 'IYE', 'IYM', 'IYH', 'IECS'],\n",
    "                                            metric_name='close',\n",
    "                                            startDate= start,\n",
    "                                            endDate= end,\n",
    "                                            frequency='daily')"
   ]
  },
  {
   "cell_type": "code",
   "execution_count": 6,
   "metadata": {},
   "outputs": [
    {
     "data": {
      "text/html": [
       "<div>\n",
       "<style scoped>\n",
       "    .dataframe tbody tr th:only-of-type {\n",
       "        vertical-align: middle;\n",
       "    }\n",
       "\n",
       "    .dataframe tbody tr th {\n",
       "        vertical-align: top;\n",
       "    }\n",
       "\n",
       "    .dataframe thead th {\n",
       "        text-align: right;\n",
       "    }\n",
       "</style>\n",
       "<table border=\"1\" class=\"dataframe\">\n",
       "  <thead>\n",
       "    <tr style=\"text-align: right;\">\n",
       "      <th></th>\n",
       "      <th>SPY</th>\n",
       "      <th>IGM (Technology)</th>\n",
       "      <th>IYE (Energy)</th>\n",
       "      <th>IYM (Materials)</th>\n",
       "      <th>IYH (Healthcare)</th>\n",
       "      <th>IECS (Consumer Staples)</th>\n",
       "    </tr>\n",
       "  </thead>\n",
       "  <tbody>\n",
       "    <tr>\n",
       "      <td>2019-02-06 00:00:00+00:00</td>\n",
       "      <td>272.74</td>\n",
       "      <td>193.7109</td>\n",
       "      <td>35.16</td>\n",
       "      <td>89.50</td>\n",
       "      <td>191.0895</td>\n",
       "      <td>24.5705</td>\n",
       "    </tr>\n",
       "    <tr>\n",
       "      <td>2019-02-07 00:00:00+00:00</td>\n",
       "      <td>270.14</td>\n",
       "      <td>190.7848</td>\n",
       "      <td>34.36</td>\n",
       "      <td>87.83</td>\n",
       "      <td>189.0200</td>\n",
       "      <td>24.5157</td>\n",
       "    </tr>\n",
       "    <tr>\n",
       "      <td>2019-02-08 00:00:00+00:00</td>\n",
       "      <td>270.47</td>\n",
       "      <td>191.5262</td>\n",
       "      <td>34.20</td>\n",
       "      <td>87.58</td>\n",
       "      <td>189.2100</td>\n",
       "      <td>24.6313</td>\n",
       "    </tr>\n",
       "    <tr>\n",
       "      <td>2019-02-11 00:00:00+00:00</td>\n",
       "      <td>270.62</td>\n",
       "      <td>191.8665</td>\n",
       "      <td>34.39</td>\n",
       "      <td>87.92</td>\n",
       "      <td>189.1700</td>\n",
       "      <td>24.7325</td>\n",
       "    </tr>\n",
       "    <tr>\n",
       "      <td>2019-02-12 00:00:00+00:00</td>\n",
       "      <td>274.10</td>\n",
       "      <td>194.7900</td>\n",
       "      <td>34.83</td>\n",
       "      <td>89.89</td>\n",
       "      <td>191.6600</td>\n",
       "      <td>24.9152</td>\n",
       "    </tr>\n",
       "  </tbody>\n",
       "</table>\n",
       "</div>"
      ],
      "text/plain": [
       "                              SPY  IGM (Technology)  IYE (Energy)  \\\n",
       "2019-02-06 00:00:00+00:00  272.74          193.7109         35.16   \n",
       "2019-02-07 00:00:00+00:00  270.14          190.7848         34.36   \n",
       "2019-02-08 00:00:00+00:00  270.47          191.5262         34.20   \n",
       "2019-02-11 00:00:00+00:00  270.62          191.8665         34.39   \n",
       "2019-02-12 00:00:00+00:00  274.10          194.7900         34.83   \n",
       "\n",
       "                           IYM (Materials)  IYH (Healthcare)  \\\n",
       "2019-02-06 00:00:00+00:00            89.50          191.0895   \n",
       "2019-02-07 00:00:00+00:00            87.83          189.0200   \n",
       "2019-02-08 00:00:00+00:00            87.58          189.2100   \n",
       "2019-02-11 00:00:00+00:00            87.92          189.1700   \n",
       "2019-02-12 00:00:00+00:00            89.89          191.6600   \n",
       "\n",
       "                           IECS (Consumer Staples)  \n",
       "2019-02-06 00:00:00+00:00                  24.5705  \n",
       "2019-02-07 00:00:00+00:00                  24.5157  \n",
       "2019-02-08 00:00:00+00:00                  24.6313  \n",
       "2019-02-11 00:00:00+00:00                  24.7325  \n",
       "2019-02-12 00:00:00+00:00                  24.9152  "
      ]
     },
     "execution_count": 6,
     "metadata": {},
     "output_type": "execute_result"
    }
   ],
   "source": [
    "us_df = us_ticker_df.rename(columns={'IGM':'IGM (Technology)', 'IYE':'IYE (Energy)', 'IYM':'IYM (Materials)', 'IYH':'IYH (Healthcare)', 'IECS':'IECS (Consumer Staples)'})\n",
    "us_df.head()"
   ]
  },
  {
   "cell_type": "code",
   "execution_count": 7,
   "metadata": {},
   "outputs": [
    {
     "data": {
      "text/plain": [
       "SPY                        0\n",
       "IGM (Technology)           0\n",
       "IYE (Energy)               0\n",
       "IYM (Materials)            0\n",
       "IYH (Healthcare)           0\n",
       "IECS (Consumer Staples)    1\n",
       "dtype: int64"
      ]
     },
     "execution_count": 7,
     "metadata": {},
     "output_type": "execute_result"
    }
   ],
   "source": [
    "# Count/Drop Nulls (if any)\n",
    "us_df.isnull().sum()"
   ]
  },
  {
   "cell_type": "code",
   "execution_count": 8,
   "metadata": {},
   "outputs": [
    {
     "data": {
      "text/plain": [
       "SPY                        0\n",
       "IGM (Technology)           0\n",
       "IYE (Energy)               0\n",
       "IYM (Materials)            0\n",
       "IYH (Healthcare)           0\n",
       "IECS (Consumer Staples)    0\n",
       "dtype: int64"
      ]
     },
     "execution_count": 8,
     "metadata": {},
     "output_type": "execute_result"
    }
   ],
   "source": [
    "us_df.dropna(inplace=True)\n",
    "us_df.isnull().sum()"
   ]
  },
  {
   "cell_type": "markdown",
   "metadata": {},
   "source": [
    "# Monte Carlo Simulation "
   ]
  },
  {
   "cell_type": "code",
   "execution_count": 9,
   "metadata": {},
   "outputs": [
    {
     "data": {
      "text/html": [
       "<div>\n",
       "<style scoped>\n",
       "    .dataframe tbody tr th:only-of-type {\n",
       "        vertical-align: middle;\n",
       "    }\n",
       "\n",
       "    .dataframe tbody tr th {\n",
       "        vertical-align: top;\n",
       "    }\n",
       "\n",
       "    .dataframe thead th {\n",
       "        text-align: right;\n",
       "    }\n",
       "</style>\n",
       "<table border=\"1\" class=\"dataframe\">\n",
       "  <thead>\n",
       "    <tr style=\"text-align: right;\">\n",
       "      <th></th>\n",
       "      <th>SPY</th>\n",
       "      <th>IGM (Technology)</th>\n",
       "      <th>IYE (Energy)</th>\n",
       "      <th>IYM (Materials)</th>\n",
       "      <th>IYH (Healthcare)</th>\n",
       "      <th>IECS (Consumer Staples)</th>\n",
       "    </tr>\n",
       "  </thead>\n",
       "  <tbody>\n",
       "    <tr>\n",
       "      <td>2019-02-06 00:00:00+00:00</td>\n",
       "      <td>NaN</td>\n",
       "      <td>NaN</td>\n",
       "      <td>NaN</td>\n",
       "      <td>NaN</td>\n",
       "      <td>NaN</td>\n",
       "      <td>NaN</td>\n",
       "    </tr>\n",
       "    <tr>\n",
       "      <td>2019-02-07 00:00:00+00:00</td>\n",
       "      <td>-0.009533</td>\n",
       "      <td>-0.015106</td>\n",
       "      <td>-0.022753</td>\n",
       "      <td>-0.018659</td>\n",
       "      <td>-0.010830</td>\n",
       "      <td>-0.002230</td>\n",
       "    </tr>\n",
       "    <tr>\n",
       "      <td>2019-02-08 00:00:00+00:00</td>\n",
       "      <td>0.001222</td>\n",
       "      <td>0.003886</td>\n",
       "      <td>-0.004657</td>\n",
       "      <td>-0.002846</td>\n",
       "      <td>0.001005</td>\n",
       "      <td>0.004715</td>\n",
       "    </tr>\n",
       "    <tr>\n",
       "      <td>2019-02-11 00:00:00+00:00</td>\n",
       "      <td>0.000555</td>\n",
       "      <td>0.001777</td>\n",
       "      <td>0.005556</td>\n",
       "      <td>0.003882</td>\n",
       "      <td>-0.000211</td>\n",
       "      <td>0.004109</td>\n",
       "    </tr>\n",
       "    <tr>\n",
       "      <td>2019-02-12 00:00:00+00:00</td>\n",
       "      <td>0.012859</td>\n",
       "      <td>0.015237</td>\n",
       "      <td>0.012794</td>\n",
       "      <td>0.022407</td>\n",
       "      <td>0.013163</td>\n",
       "      <td>0.007387</td>\n",
       "    </tr>\n",
       "  </tbody>\n",
       "</table>\n",
       "</div>"
      ],
      "text/plain": [
       "                                SPY  IGM (Technology)  IYE (Energy)  \\\n",
       "2019-02-06 00:00:00+00:00       NaN               NaN           NaN   \n",
       "2019-02-07 00:00:00+00:00 -0.009533         -0.015106     -0.022753   \n",
       "2019-02-08 00:00:00+00:00  0.001222          0.003886     -0.004657   \n",
       "2019-02-11 00:00:00+00:00  0.000555          0.001777      0.005556   \n",
       "2019-02-12 00:00:00+00:00  0.012859          0.015237      0.012794   \n",
       "\n",
       "                           IYM (Materials)  IYH (Healthcare)  \\\n",
       "2019-02-06 00:00:00+00:00              NaN               NaN   \n",
       "2019-02-07 00:00:00+00:00        -0.018659         -0.010830   \n",
       "2019-02-08 00:00:00+00:00        -0.002846          0.001005   \n",
       "2019-02-11 00:00:00+00:00         0.003882         -0.000211   \n",
       "2019-02-12 00:00:00+00:00         0.022407          0.013163   \n",
       "\n",
       "                           IECS (Consumer Staples)  \n",
       "2019-02-06 00:00:00+00:00                      NaN  \n",
       "2019-02-07 00:00:00+00:00                -0.002230  \n",
       "2019-02-08 00:00:00+00:00                 0.004715  \n",
       "2019-02-11 00:00:00+00:00                 0.004109  \n",
       "2019-02-12 00:00:00+00:00                 0.007387  "
      ]
     },
     "execution_count": 9,
     "metadata": {},
     "output_type": "execute_result"
    }
   ],
   "source": [
    "# Calculate the Daily Returns for China Stocks\n",
    "us_daily_returns = us_df.pct_change()\n",
    "us_daily_returns.head()"
   ]
  },
  {
   "cell_type": "code",
   "execution_count": 10,
   "metadata": {},
   "outputs": [],
   "source": [
    "# Calculate the Value of Average Daily Returns\n",
    "avg_daily_returns_spy = us_daily_returns.mean()['SPY']\n",
    "avg_daily_returns_igm = us_daily_returns.mean()['IGM (Technology)']\n",
    "avg_daily_returns_iye = us_daily_returns.mean()['IYE (Energy)']\n",
    "avg_daily_returns_iym = us_daily_returns.mean()['IYM (Materials)']\n",
    "avg_daily_returns_iyh = us_daily_returns.mean()['IYH (Healthcare)']\n",
    "avg_daily_returns_iecs = us_daily_returns.mean()['IECS (Consumer Staples)']"
   ]
  },
  {
   "cell_type": "code",
   "execution_count": 11,
   "metadata": {},
   "outputs": [],
   "source": [
    "# Calculate the Standard Deviation \n",
    "std_daily_returns_spy = us_daily_returns.std()['SPY']\n",
    "std_daily_returns_igm = us_daily_returns.std()['IGM (Technology)']\n",
    "std_daily_returns_iye = us_daily_returns.std()['IYE (Energy)']\n",
    "std_daily_returns_iym = us_daily_returns.std()['IYM (Materials)']\n",
    "std_daily_returns_iyh = us_daily_returns.std()['IYH (Healthcare)']\n",
    "std_daily_returns_iecs = us_daily_returns.std()['IECS (Consumer Staples)']"
   ]
  },
  {
   "cell_type": "code",
   "execution_count": 12,
   "metadata": {},
   "outputs": [],
   "source": [
    "# Save the Last Day's Closing Price\n",
    "spy_last_price = us_df['SPY'][-1]\n",
    "igm_last_price = us_df['IGM (Technology)'][-1]\n",
    "iye_last_price = us_df['IYE (Energy)'][-1]\n",
    "iym_last_price = us_df['IYM (Materials)'][-1]\n",
    "iyh_last_price = us_df['IYH (Healthcare)'][-1]\n",
    "iecs_last_price = us_df['IECS (Consumer Staples)'][-1]"
   ]
  },
  {
   "cell_type": "code",
   "execution_count": 13,
   "metadata": {},
   "outputs": [],
   "source": [
    "# Setup the Monte Carlo Parameters\n",
    "number_simulations = 100\n",
    "number_records = 252\n",
    "monte_carlo = pd.DataFrame()\n",
    "portfolio_cumulative_returns = pd.DataFrame()"
   ]
  },
  {
   "cell_type": "code",
   "execution_count": 14,
   "metadata": {},
   "outputs": [
    {
     "data": {
      "text/html": [
       "<div>\n",
       "<style scoped>\n",
       "    .dataframe tbody tr th:only-of-type {\n",
       "        vertical-align: middle;\n",
       "    }\n",
       "\n",
       "    .dataframe tbody tr th {\n",
       "        vertical-align: top;\n",
       "    }\n",
       "\n",
       "    .dataframe thead th {\n",
       "        text-align: right;\n",
       "    }\n",
       "</style>\n",
       "<table border=\"1\" class=\"dataframe\">\n",
       "  <thead>\n",
       "    <tr style=\"text-align: right;\">\n",
       "      <th></th>\n",
       "      <th>0</th>\n",
       "      <th>1</th>\n",
       "      <th>2</th>\n",
       "      <th>3</th>\n",
       "      <th>4</th>\n",
       "      <th>5</th>\n",
       "      <th>6</th>\n",
       "      <th>7</th>\n",
       "      <th>8</th>\n",
       "      <th>9</th>\n",
       "      <th>...</th>\n",
       "      <th>90</th>\n",
       "      <th>91</th>\n",
       "      <th>92</th>\n",
       "      <th>93</th>\n",
       "      <th>94</th>\n",
       "      <th>95</th>\n",
       "      <th>96</th>\n",
       "      <th>97</th>\n",
       "      <th>98</th>\n",
       "      <th>99</th>\n",
       "    </tr>\n",
       "  </thead>\n",
       "  <tbody>\n",
       "    <tr>\n",
       "      <td>0</td>\n",
       "      <td>1.000000</td>\n",
       "      <td>1.000000</td>\n",
       "      <td>1.000000</td>\n",
       "      <td>1.000000</td>\n",
       "      <td>1.000000</td>\n",
       "      <td>1.000000</td>\n",
       "      <td>1.000000</td>\n",
       "      <td>1.000000</td>\n",
       "      <td>1.000000</td>\n",
       "      <td>1.000000</td>\n",
       "      <td>...</td>\n",
       "      <td>1.000000</td>\n",
       "      <td>1.000000</td>\n",
       "      <td>1.000000</td>\n",
       "      <td>1.000000</td>\n",
       "      <td>1.000000</td>\n",
       "      <td>1.000000</td>\n",
       "      <td>1.000000</td>\n",
       "      <td>1.000000</td>\n",
       "      <td>1.000000</td>\n",
       "      <td>1.000000</td>\n",
       "    </tr>\n",
       "    <tr>\n",
       "      <td>1</td>\n",
       "      <td>0.865061</td>\n",
       "      <td>0.556180</td>\n",
       "      <td>1.551646</td>\n",
       "      <td>1.066812</td>\n",
       "      <td>1.021411</td>\n",
       "      <td>1.763205</td>\n",
       "      <td>1.470892</td>\n",
       "      <td>1.000271</td>\n",
       "      <td>1.142063</td>\n",
       "      <td>0.706202</td>\n",
       "      <td>...</td>\n",
       "      <td>1.374500</td>\n",
       "      <td>0.598075</td>\n",
       "      <td>0.772940</td>\n",
       "      <td>1.418962</td>\n",
       "      <td>1.331175</td>\n",
       "      <td>1.256643</td>\n",
       "      <td>1.374331</td>\n",
       "      <td>0.390062</td>\n",
       "      <td>0.900262</td>\n",
       "      <td>1.609434</td>\n",
       "    </tr>\n",
       "    <tr>\n",
       "      <td>2</td>\n",
       "      <td>1.496226</td>\n",
       "      <td>0.612196</td>\n",
       "      <td>1.901094</td>\n",
       "      <td>0.118695</td>\n",
       "      <td>1.387180</td>\n",
       "      <td>1.233575</td>\n",
       "      <td>2.484396</td>\n",
       "      <td>0.401330</td>\n",
       "      <td>0.841125</td>\n",
       "      <td>0.701608</td>\n",
       "      <td>...</td>\n",
       "      <td>2.395333</td>\n",
       "      <td>0.273142</td>\n",
       "      <td>0.673505</td>\n",
       "      <td>1.543937</td>\n",
       "      <td>1.470194</td>\n",
       "      <td>1.340556</td>\n",
       "      <td>1.580962</td>\n",
       "      <td>0.383802</td>\n",
       "      <td>0.781225</td>\n",
       "      <td>1.297107</td>\n",
       "    </tr>\n",
       "    <tr>\n",
       "      <td>3</td>\n",
       "      <td>1.968375</td>\n",
       "      <td>0.775542</td>\n",
       "      <td>1.708286</td>\n",
       "      <td>0.213647</td>\n",
       "      <td>1.894422</td>\n",
       "      <td>0.776326</td>\n",
       "      <td>2.273612</td>\n",
       "      <td>0.643364</td>\n",
       "      <td>0.614941</td>\n",
       "      <td>0.414941</td>\n",
       "      <td>...</td>\n",
       "      <td>1.550529</td>\n",
       "      <td>0.294999</td>\n",
       "      <td>0.760199</td>\n",
       "      <td>1.907352</td>\n",
       "      <td>2.063256</td>\n",
       "      <td>1.888060</td>\n",
       "      <td>1.515988</td>\n",
       "      <td>0.355242</td>\n",
       "      <td>1.304837</td>\n",
       "      <td>1.627365</td>\n",
       "    </tr>\n",
       "    <tr>\n",
       "      <td>4</td>\n",
       "      <td>1.984714</td>\n",
       "      <td>1.054999</td>\n",
       "      <td>2.470788</td>\n",
       "      <td>0.076110</td>\n",
       "      <td>0.970097</td>\n",
       "      <td>0.336381</td>\n",
       "      <td>4.003706</td>\n",
       "      <td>0.273348</td>\n",
       "      <td>0.751549</td>\n",
       "      <td>0.391348</td>\n",
       "      <td>...</td>\n",
       "      <td>3.783440</td>\n",
       "      <td>0.276571</td>\n",
       "      <td>1.288482</td>\n",
       "      <td>1.215362</td>\n",
       "      <td>2.775896</td>\n",
       "      <td>0.407048</td>\n",
       "      <td>0.259500</td>\n",
       "      <td>0.330298</td>\n",
       "      <td>1.576286</td>\n",
       "      <td>2.782085</td>\n",
       "    </tr>\n",
       "  </tbody>\n",
       "</table>\n",
       "<p>5 rows × 100 columns</p>\n",
       "</div>"
      ],
      "text/plain": [
       "         0         1         2         3         4         5         6   \\\n",
       "0  1.000000  1.000000  1.000000  1.000000  1.000000  1.000000  1.000000   \n",
       "1  0.865061  0.556180  1.551646  1.066812  1.021411  1.763205  1.470892   \n",
       "2  1.496226  0.612196  1.901094  0.118695  1.387180  1.233575  2.484396   \n",
       "3  1.968375  0.775542  1.708286  0.213647  1.894422  0.776326  2.273612   \n",
       "4  1.984714  1.054999  2.470788  0.076110  0.970097  0.336381  4.003706   \n",
       "\n",
       "         7         8         9   ...        90        91        92        93  \\\n",
       "0  1.000000  1.000000  1.000000  ...  1.000000  1.000000  1.000000  1.000000   \n",
       "1  1.000271  1.142063  0.706202  ...  1.374500  0.598075  0.772940  1.418962   \n",
       "2  0.401330  0.841125  0.701608  ...  2.395333  0.273142  0.673505  1.543937   \n",
       "3  0.643364  0.614941  0.414941  ...  1.550529  0.294999  0.760199  1.907352   \n",
       "4  0.273348  0.751549  0.391348  ...  3.783440  0.276571  1.288482  1.215362   \n",
       "\n",
       "         94        95        96        97        98        99  \n",
       "0  1.000000  1.000000  1.000000  1.000000  1.000000  1.000000  \n",
       "1  1.331175  1.256643  1.374331  0.390062  0.900262  1.609434  \n",
       "2  1.470194  1.340556  1.580962  0.383802  0.781225  1.297107  \n",
       "3  2.063256  1.888060  1.515988  0.355242  1.304837  1.627365  \n",
       "4  2.775896  0.407048  0.259500  0.330298  1.576286  2.782085  \n",
       "\n",
       "[5 rows x 100 columns]"
      ]
     },
     "execution_count": 14,
     "metadata": {},
     "output_type": "execute_result"
    }
   ],
   "source": [
    "# Run the Monte Carlo Simulation\n",
    "for x in range (number_simulations):\n",
    "    simulated_spy_prices = [spy_last_price]\n",
    "    simulated_igm_prices = [igm_last_price]\n",
    "    simulated_iye_prices = [iye_last_price]\n",
    "    simulated_iym_prices = [iym_last_price]\n",
    "    simulated_iyh_prices = [iyh_last_price]\n",
    "    simulated_iecs_prices = [iecs_last_price]\n",
    "    \n",
    "    for y in range (number_records):\n",
    "        simulated_spy_price = simulated_spy_prices[-1] * (1 + np.random.normal(avg_daily_returns_spy, std_daily_returns_spy))\n",
    "        simulated_igm_price = simulated_igm_prices[-1] * (1 + np.random.normal(avg_daily_returns_igm, std_daily_returns_igm))\n",
    "        simulated_iye_price = simulated_iye_prices[-1] * (1 + np.random.normal(avg_daily_returns_iye, std_daily_returns_iye))\n",
    "        simulated_iym_price = simulated_iym_prices[-1] * (1 + np.random.normal(avg_daily_returns_iym, std_daily_returns_iym))\n",
    "        simulated_iyh_price = simulated_iyh_prices[-1] * (1 + np.random.normal(avg_daily_returns_iyh, std_daily_returns_iyh))\n",
    "        simulated_iecs_price = simulated_iecs_prices[-1] * (1 + np.random.normal(avg_daily_returns_iecs, std_daily_returns_iecs))\n",
    "       \n",
    "        simulated_spy_prices.append(simulated_spy_price)\n",
    "        simulated_igm_prices.append(simulated_igm_price)\n",
    "        simulated_iye_prices.append(simulated_iye_price)\n",
    "        simulated_iym_prices.append(simulated_iym_price)\n",
    "        simulated_iyh_prices.append(simulated_iyh_price)\n",
    "        simulated_iecs_prices.append(simulated_iecs_price)\n",
    "    \n",
    "    monte_carlo['SPY prices'] = pd.Series(simulated_spy_prices)\n",
    "    monte_carlo['IGM (Technology) prices'] = pd.Series(simulated_igm_prices)\n",
    "    monte_carlo['IYE (Energy) prices'] = pd.Series(simulated_iye_prices)\n",
    "    monte_carlo['IYM (Materials) prices'] = pd.Series(simulated_iym_prices)\n",
    "    monte_carlo['IYH (Healthcare) prices'] = pd.Series(simulated_iyh_prices)\n",
    "    monte_carlo['IECS (Consumer Staples) prices'] = pd.Series(simulated_iecs_prices)\n",
    "    \n",
    "    simulated_us_daily_returns = monte_carlo.pct_change()\n",
    "    \n",
    "    weights = [(100/6), (100/6), (100/6), (100/6), (100/6), (100/6)]\n",
    "    us_portfolio_daily_returns = simulated_us_daily_returns.dot(weights)\n",
    "    \n",
    "    portfolio_cumulative_returns[x] = (1 + us_portfolio_daily_returns.fillna(0)).cumprod()\n",
    "portfolio_cumulative_returns.head()"
   ]
  },
  {
   "cell_type": "code",
   "execution_count": 15,
   "metadata": {},
   "outputs": [
    {
     "data": {
      "text/plain": [
       "<matplotlib.axes._subplots.AxesSubplot at 0x2406cee3488>"
      ]
     },
     "execution_count": 15,
     "metadata": {},
     "output_type": "execute_result"
    },
    {
     "data": {
      "image/png": "[encoded data removed]",
      "text/plain": [
       "<Figure size 1080x720 with 1 Axes>"
      ]
     },
     "metadata": {
      "needs_background": "light"
     },
     "output_type": "display_data"
    }
   ],
   "source": [
    "# Visualize the Simulation\n",
    "plot_title = f\"{number_simulations} Simulations of US's Cumulative Portfolio Return Trajectories Over the Next {number_records} Trading Days\"\n",
    "portfolio_cumulative_returns.plot(legend=None, title=plot_title, figsize=(15,10))"
   ]
  },
  {
   "cell_type": "code",
   "execution_count": null,
   "metadata": {},
   "outputs": [],
   "source": []
  }
 ],
 "metadata": {
  "kernelspec": {
   "display_name": "Python 3",
   "language": "python",
   "name": "python3"
  },
  "language_info": {
   "codemirror_mode": {
    "name": "ipython",
    "version": 3
   },
   "file_extension": ".py",
   "mimetype": "text/x-python",
   "name": "python",
   "nbconvert_exporter": "python",
   "pygments_lexer": "ipython3",
   "version": "3.7.4"
  }
 },
 "nbformat": 4,
 "nbformat_minor": 4
}
