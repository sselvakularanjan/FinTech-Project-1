{
 "cells": [
  {
   "cell_type": "code",
   "execution_count": 1,
   "metadata": {},
   "outputs": [],
   "source": [
    "from tiingo import TiingoClient\n",
    "import os\n",
    "from datetime import datetime, timedelta\n",
    "import pandas as pd\n",
    "import json\n",
    "from pathlib import Path\n",
    "%matplotlib inline"
   ]
  },
  {
   "cell_type": "code",
   "execution_count": 2,
   "metadata": {},
   "outputs": [],
   "source": [
    "tiingo = os.getenv('TIINGO_API_KEY')"
   ]
  },
  {
   "cell_type": "code",
   "execution_count": 3,
   "metadata": {},
   "outputs": [],
   "source": [
    "client = TiingoClient()"
   ]
  },
  {
   "cell_type": "code",
   "execution_count": 4,
   "metadata": {},
   "outputs": [],
   "source": [
    "start = datetime.strptime('2019-12-01', '%Y-%m-%d')\n",
    "end = datetime.now()"
   ]
  },
  {
   "cell_type": "code",
   "execution_count": 5,
   "metadata": {},
   "outputs": [
    {
     "name": "stderr",
     "output_type": "stream",
     "text": [
      "C:\\Users\\selva\\Anaconda3\\lib\\site-packages\\tiingo\\api.py:270: FutureWarning: Sorting because non-concatenation axis is not aligned. A future version\n",
      "of pandas will change to not sort by default.\n",
      "\n",
      "To accept the future behavior, pass 'sort=False'.\n",
      "\n",
      "To retain the current behavior and silence the warning, pass 'sort=True'.\n",
      "\n",
      "  prices = pd.concat([prices, df[stock]], axis=1)\n"
     ]
    },
    {
     "data": {
      "text/html": [
       "<div>\n",
       "<style scoped>\n",
       "    .dataframe tbody tr th:only-of-type {\n",
       "        vertical-align: middle;\n",
       "    }\n",
       "\n",
       "    .dataframe tbody tr th {\n",
       "        vertical-align: top;\n",
       "    }\n",
       "\n",
       "    .dataframe thead th {\n",
       "        text-align: right;\n",
       "    }\n",
       "</style>\n",
       "<table border=\"1\" class=\"dataframe\">\n",
       "  <thead>\n",
       "    <tr style=\"text-align: right;\">\n",
       "      <th></th>\n",
       "      <th>ASHR</th>\n",
       "      <th>CQQQ</th>\n",
       "      <th>CHIE</th>\n",
       "      <th>CHIM</th>\n",
       "      <th>KURE</th>\n",
       "      <th>CHIS</th>\n",
       "    </tr>\n",
       "    <tr>\n",
       "      <th>date</th>\n",
       "      <th></th>\n",
       "      <th></th>\n",
       "      <th></th>\n",
       "      <th></th>\n",
       "      <th></th>\n",
       "      <th></th>\n",
       "    </tr>\n",
       "  </thead>\n",
       "  <tbody>\n",
       "    <tr>\n",
       "      <td>2019-12-02 00:00:00+00:00</td>\n",
       "      <td>27.43</td>\n",
       "      <td>49.860</td>\n",
       "      <td>10.125</td>\n",
       "      <td>15.045</td>\n",
       "      <td>21.8970</td>\n",
       "      <td>21.2614</td>\n",
       "    </tr>\n",
       "    <tr>\n",
       "      <td>2019-12-03 00:00:00+00:00</td>\n",
       "      <td>27.42</td>\n",
       "      <td>49.510</td>\n",
       "      <td>10.000</td>\n",
       "      <td>14.895</td>\n",
       "      <td>21.8410</td>\n",
       "      <td>21.0850</td>\n",
       "    </tr>\n",
       "    <tr>\n",
       "      <td>2019-12-04 00:00:00+00:00</td>\n",
       "      <td>27.77</td>\n",
       "      <td>49.595</td>\n",
       "      <td>10.035</td>\n",
       "      <td>15.150</td>\n",
       "      <td>22.1499</td>\n",
       "      <td>21.4000</td>\n",
       "    </tr>\n",
       "    <tr>\n",
       "      <td>2019-12-05 00:00:00+00:00</td>\n",
       "      <td>27.89</td>\n",
       "      <td>50.440</td>\n",
       "      <td>9.865</td>\n",
       "      <td>15.120</td>\n",
       "      <td>22.4179</td>\n",
       "      <td>21.4622</td>\n",
       "    </tr>\n",
       "    <tr>\n",
       "      <td>2019-12-06 00:00:00+00:00</td>\n",
       "      <td>28.18</td>\n",
       "      <td>50.810</td>\n",
       "      <td>10.040</td>\n",
       "      <td>15.255</td>\n",
       "      <td>22.6872</td>\n",
       "      <td>21.6789</td>\n",
       "    </tr>\n",
       "  </tbody>\n",
       "</table>\n",
       "</div>"
      ],
      "text/plain": [
       "                            ASHR    CQQQ    CHIE    CHIM     KURE     CHIS\n",
       "date                                                                      \n",
       "2019-12-02 00:00:00+00:00  27.43  49.860  10.125  15.045  21.8970  21.2614\n",
       "2019-12-03 00:00:00+00:00  27.42  49.510  10.000  14.895  21.8410  21.0850\n",
       "2019-12-04 00:00:00+00:00  27.77  49.595  10.035  15.150  22.1499  21.4000\n",
       "2019-12-05 00:00:00+00:00  27.89  50.440   9.865  15.120  22.4179  21.4622\n",
       "2019-12-06 00:00:00+00:00  28.18  50.810  10.040  15.255  22.6872  21.6789"
      ]
     },
     "execution_count": 5,
     "metadata": {},
     "output_type": "execute_result"
    }
   ],
   "source": [
    "china_ticker_df = client.get_dataframe(['ASHR','CQQQ', 'CHIE', 'CHIM', 'KURE', 'CHIS'],\n",
    "                                            metric_name='close',\n",
    "                                            startDate= start,\n",
    "                                            endDate= end,\n",
    "                                            frequency='daily')\n",
    "china_ticker_df.head()"
   ]
  },
  {
   "cell_type": "code",
   "execution_count": 6,
   "metadata": {},
   "outputs": [
    {
     "data": {
      "text/html": [
       "<div>\n",
       "<style scoped>\n",
       "    .dataframe tbody tr th:only-of-type {\n",
       "        vertical-align: middle;\n",
       "    }\n",
       "\n",
       "    .dataframe tbody tr th {\n",
       "        vertical-align: top;\n",
       "    }\n",
       "\n",
       "    .dataframe thead th {\n",
       "        text-align: right;\n",
       "    }\n",
       "</style>\n",
       "<table border=\"1\" class=\"dataframe\">\n",
       "  <thead>\n",
       "    <tr style=\"text-align: right;\">\n",
       "      <th></th>\n",
       "      <th>ASHR</th>\n",
       "      <th>CQQQ</th>\n",
       "      <th>CHIE</th>\n",
       "      <th>CHIM</th>\n",
       "      <th>KURE</th>\n",
       "      <th>CHIS</th>\n",
       "    </tr>\n",
       "    <tr>\n",
       "      <th>date</th>\n",
       "      <th></th>\n",
       "      <th></th>\n",
       "      <th></th>\n",
       "      <th></th>\n",
       "      <th></th>\n",
       "      <th></th>\n",
       "    </tr>\n",
       "  </thead>\n",
       "  <tbody>\n",
       "    <tr>\n",
       "      <td>2019-12-02 00:00:00+00:00</td>\n",
       "      <td>NaN</td>\n",
       "      <td>NaN</td>\n",
       "      <td>NaN</td>\n",
       "      <td>NaN</td>\n",
       "      <td>NaN</td>\n",
       "      <td>NaN</td>\n",
       "    </tr>\n",
       "    <tr>\n",
       "      <td>2019-12-03 00:00:00+00:00</td>\n",
       "      <td>-0.000365</td>\n",
       "      <td>-0.007020</td>\n",
       "      <td>-0.012346</td>\n",
       "      <td>-0.009970</td>\n",
       "      <td>-0.002557</td>\n",
       "      <td>-0.008297</td>\n",
       "    </tr>\n",
       "    <tr>\n",
       "      <td>2019-12-04 00:00:00+00:00</td>\n",
       "      <td>0.012764</td>\n",
       "      <td>0.001717</td>\n",
       "      <td>0.003500</td>\n",
       "      <td>0.017120</td>\n",
       "      <td>0.014143</td>\n",
       "      <td>0.014940</td>\n",
       "    </tr>\n",
       "    <tr>\n",
       "      <td>2019-12-05 00:00:00+00:00</td>\n",
       "      <td>0.004321</td>\n",
       "      <td>0.017038</td>\n",
       "      <td>-0.016941</td>\n",
       "      <td>-0.001980</td>\n",
       "      <td>0.012099</td>\n",
       "      <td>0.002907</td>\n",
       "    </tr>\n",
       "    <tr>\n",
       "      <td>2019-12-06 00:00:00+00:00</td>\n",
       "      <td>0.010398</td>\n",
       "      <td>0.007335</td>\n",
       "      <td>0.017739</td>\n",
       "      <td>0.008929</td>\n",
       "      <td>0.012013</td>\n",
       "      <td>0.010097</td>\n",
       "    </tr>\n",
       "  </tbody>\n",
       "</table>\n",
       "</div>"
      ],
      "text/plain": [
       "                               ASHR      CQQQ      CHIE      CHIM      KURE  \\\n",
       "date                                                                          \n",
       "2019-12-02 00:00:00+00:00       NaN       NaN       NaN       NaN       NaN   \n",
       "2019-12-03 00:00:00+00:00 -0.000365 -0.007020 -0.012346 -0.009970 -0.002557   \n",
       "2019-12-04 00:00:00+00:00  0.012764  0.001717  0.003500  0.017120  0.014143   \n",
       "2019-12-05 00:00:00+00:00  0.004321  0.017038 -0.016941 -0.001980  0.012099   \n",
       "2019-12-06 00:00:00+00:00  0.010398  0.007335  0.017739  0.008929  0.012013   \n",
       "\n",
       "                               CHIS  \n",
       "date                                 \n",
       "2019-12-02 00:00:00+00:00       NaN  \n",
       "2019-12-03 00:00:00+00:00 -0.008297  \n",
       "2019-12-04 00:00:00+00:00  0.014940  \n",
       "2019-12-05 00:00:00+00:00  0.002907  \n",
       "2019-12-06 00:00:00+00:00  0.010097  "
      ]
     },
     "execution_count": 6,
     "metadata": {},
     "output_type": "execute_result"
    }
   ],
   "source": [
    "china_daily_returns = china_ticker_df.pct_change()\n",
    "china_daily_returns.head()"
   ]
  },
  {
   "cell_type": "code",
   "execution_count": 7,
   "metadata": {},
   "outputs": [
    {
     "data": {
      "text/html": [
       "<div>\n",
       "<style scoped>\n",
       "    .dataframe tbody tr th:only-of-type {\n",
       "        vertical-align: middle;\n",
       "    }\n",
       "\n",
       "    .dataframe tbody tr th {\n",
       "        vertical-align: top;\n",
       "    }\n",
       "\n",
       "    .dataframe thead th {\n",
       "        text-align: right;\n",
       "    }\n",
       "</style>\n",
       "<table border=\"1\" class=\"dataframe\">\n",
       "  <thead>\n",
       "    <tr style=\"text-align: right;\">\n",
       "      <th></th>\n",
       "      <th>SPY</th>\n",
       "      <th>IECS</th>\n",
       "      <th>IYH</th>\n",
       "      <th>IGM</th>\n",
       "      <th>IYE</th>\n",
       "      <th>IYH</th>\n",
       "    </tr>\n",
       "    <tr>\n",
       "      <th>date</th>\n",
       "      <th></th>\n",
       "      <th></th>\n",
       "      <th></th>\n",
       "      <th></th>\n",
       "      <th></th>\n",
       "      <th></th>\n",
       "    </tr>\n",
       "  </thead>\n",
       "  <tbody>\n",
       "    <tr>\n",
       "      <td>2019-12-02 00:00:00+00:00</td>\n",
       "      <td>311.64</td>\n",
       "      <td>28.0742</td>\n",
       "      <td>208.62</td>\n",
       "      <td>231.49</td>\n",
       "      <td>31.47</td>\n",
       "      <td>208.62</td>\n",
       "    </tr>\n",
       "    <tr>\n",
       "      <td>2019-12-03 00:00:00+00:00</td>\n",
       "      <td>309.55</td>\n",
       "      <td>28.0321</td>\n",
       "      <td>208.12</td>\n",
       "      <td>230.06</td>\n",
       "      <td>31.01</td>\n",
       "      <td>208.12</td>\n",
       "    </tr>\n",
       "    <tr>\n",
       "      <td>2019-12-04 00:00:00+00:00</td>\n",
       "      <td>311.46</td>\n",
       "      <td>28.2070</td>\n",
       "      <td>210.04</td>\n",
       "      <td>230.86</td>\n",
       "      <td>31.52</td>\n",
       "      <td>210.04</td>\n",
       "    </tr>\n",
       "    <tr>\n",
       "      <td>2019-12-05 00:00:00+00:00</td>\n",
       "      <td>312.02</td>\n",
       "      <td>28.1710</td>\n",
       "      <td>209.90</td>\n",
       "      <td>231.28</td>\n",
       "      <td>31.33</td>\n",
       "      <td>209.90</td>\n",
       "    </tr>\n",
       "    <tr>\n",
       "      <td>2019-12-06 00:00:00+00:00</td>\n",
       "      <td>314.87</td>\n",
       "      <td>28.2770</td>\n",
       "      <td>211.22</td>\n",
       "      <td>233.38</td>\n",
       "      <td>31.98</td>\n",
       "      <td>211.22</td>\n",
       "    </tr>\n",
       "  </tbody>\n",
       "</table>\n",
       "</div>"
      ],
      "text/plain": [
       "                              SPY     IECS     IYH     IGM    IYE     IYH\n",
       "date                                                                     \n",
       "2019-12-02 00:00:00+00:00  311.64  28.0742  208.62  231.49  31.47  208.62\n",
       "2019-12-03 00:00:00+00:00  309.55  28.0321  208.12  230.06  31.01  208.12\n",
       "2019-12-04 00:00:00+00:00  311.46  28.2070  210.04  230.86  31.52  210.04\n",
       "2019-12-05 00:00:00+00:00  312.02  28.1710  209.90  231.28  31.33  209.90\n",
       "2019-12-06 00:00:00+00:00  314.87  28.2770  211.22  233.38  31.98  211.22"
      ]
     },
     "execution_count": 7,
     "metadata": {},
     "output_type": "execute_result"
    }
   ],
   "source": [
    "us_ticker_df = client.get_dataframe(['SPY','IECS', 'IYH', 'IGM', 'IYE', 'IYH'],\n",
    "                                            metric_name='close',\n",
    "                                            startDate= start,\n",
    "                                            endDate= end,\n",
    "                                            frequency='daily')\n",
    "us_ticker_df.head()"
   ]
  },
  {
   "cell_type": "code",
   "execution_count": 8,
   "metadata": {},
   "outputs": [
    {
     "data": {
      "text/html": [
       "<div>\n",
       "<style scoped>\n",
       "    .dataframe tbody tr th:only-of-type {\n",
       "        vertical-align: middle;\n",
       "    }\n",
       "\n",
       "    .dataframe tbody tr th {\n",
       "        vertical-align: top;\n",
       "    }\n",
       "\n",
       "    .dataframe thead th {\n",
       "        text-align: right;\n",
       "    }\n",
       "</style>\n",
       "<table border=\"1\" class=\"dataframe\">\n",
       "  <thead>\n",
       "    <tr style=\"text-align: right;\">\n",
       "      <th></th>\n",
       "      <th>SPY</th>\n",
       "      <th>IECS</th>\n",
       "      <th>IYH</th>\n",
       "      <th>IGM</th>\n",
       "      <th>IYE</th>\n",
       "      <th>IYH</th>\n",
       "    </tr>\n",
       "    <tr>\n",
       "      <th>date</th>\n",
       "      <th></th>\n",
       "      <th></th>\n",
       "      <th></th>\n",
       "      <th></th>\n",
       "      <th></th>\n",
       "      <th></th>\n",
       "    </tr>\n",
       "  </thead>\n",
       "  <tbody>\n",
       "    <tr>\n",
       "      <td>2019-12-02 00:00:00+00:00</td>\n",
       "      <td>NaN</td>\n",
       "      <td>NaN</td>\n",
       "      <td>NaN</td>\n",
       "      <td>NaN</td>\n",
       "      <td>NaN</td>\n",
       "      <td>NaN</td>\n",
       "    </tr>\n",
       "    <tr>\n",
       "      <td>2019-12-03 00:00:00+00:00</td>\n",
       "      <td>-0.006706</td>\n",
       "      <td>-0.001500</td>\n",
       "      <td>-0.002397</td>\n",
       "      <td>-0.006177</td>\n",
       "      <td>-0.014617</td>\n",
       "      <td>-0.002397</td>\n",
       "    </tr>\n",
       "    <tr>\n",
       "      <td>2019-12-04 00:00:00+00:00</td>\n",
       "      <td>0.006170</td>\n",
       "      <td>0.006239</td>\n",
       "      <td>0.009225</td>\n",
       "      <td>0.003477</td>\n",
       "      <td>0.016446</td>\n",
       "      <td>0.009225</td>\n",
       "    </tr>\n",
       "    <tr>\n",
       "      <td>2019-12-05 00:00:00+00:00</td>\n",
       "      <td>0.001798</td>\n",
       "      <td>-0.001276</td>\n",
       "      <td>-0.000667</td>\n",
       "      <td>0.001819</td>\n",
       "      <td>-0.006028</td>\n",
       "      <td>-0.000667</td>\n",
       "    </tr>\n",
       "    <tr>\n",
       "      <td>2019-12-06 00:00:00+00:00</td>\n",
       "      <td>0.009134</td>\n",
       "      <td>0.003763</td>\n",
       "      <td>0.006289</td>\n",
       "      <td>0.009080</td>\n",
       "      <td>0.020747</td>\n",
       "      <td>0.006289</td>\n",
       "    </tr>\n",
       "  </tbody>\n",
       "</table>\n",
       "</div>"
      ],
      "text/plain": [
       "                                SPY      IECS       IYH       IGM       IYE  \\\n",
       "date                                                                          \n",
       "2019-12-02 00:00:00+00:00       NaN       NaN       NaN       NaN       NaN   \n",
       "2019-12-03 00:00:00+00:00 -0.006706 -0.001500 -0.002397 -0.006177 -0.014617   \n",
       "2019-12-04 00:00:00+00:00  0.006170  0.006239  0.009225  0.003477  0.016446   \n",
       "2019-12-05 00:00:00+00:00  0.001798 -0.001276 -0.000667  0.001819 -0.006028   \n",
       "2019-12-06 00:00:00+00:00  0.009134  0.003763  0.006289  0.009080  0.020747   \n",
       "\n",
       "                                IYH  \n",
       "date                                 \n",
       "2019-12-02 00:00:00+00:00       NaN  \n",
       "2019-12-03 00:00:00+00:00 -0.002397  \n",
       "2019-12-04 00:00:00+00:00  0.009225  \n",
       "2019-12-05 00:00:00+00:00 -0.000667  \n",
       "2019-12-06 00:00:00+00:00  0.006289  "
      ]
     },
     "execution_count": 8,
     "metadata": {},
     "output_type": "execute_result"
    }
   ],
   "source": [
    "us_daily_returns = us_ticker_df.pct_change()\n",
    "us_daily_returns.head()"
   ]
  },
  {
   "cell_type": "code",
   "execution_count": 9,
   "metadata": {},
   "outputs": [
    {
     "data": {
      "text/plain": [
       "<matplotlib.axes._subplots.AxesSubplot at 0x15c0dbdf488>"
      ]
     },
     "execution_count": 9,
     "metadata": {},
     "output_type": "execute_result"
    },
    {
     "data": {
      "image/png": "[encoded data removed]",
      "text/plain": [
       "<Figure size 432x288 with 1 Axes>"
      ]
     },
     "metadata": {
      "needs_background": "light"
     },
     "output_type": "display_data"
    }
   ],
   "source": [
    "china_daily_returns.plot(title=\"Daily Returns for China ETFs\")"
   ]
  },
  {
   "cell_type": "code",
   "execution_count": 10,
   "metadata": {},
   "outputs": [
    {
     "data": {
      "text/plain": [
       "<matplotlib.axes._subplots.AxesSubplot at 0x15c0e809e88>"
      ]
     },
     "execution_count": 10,
     "metadata": {},
     "output_type": "execute_result"
    },
    {
     "data": {
      "image/png": "[encoded data removed]",
      "text/plain": [
       "<Figure size 432x288 with 1 Axes>"
      ]
     },
     "metadata": {
      "needs_background": "light"
     },
     "output_type": "display_data"
    }
   ],
   "source": [
    "us_daily_returns.plot(title=\"Daily Returns for US ETFs\")"
   ]
  },
  {
   "cell_type": "code",
   "execution_count": 11,
   "metadata": {},
   "outputs": [
    {
     "data": {
      "text/plain": [
       "ASHR    0.016781\n",
       "CQQQ    0.017751\n",
       "CHIE    0.014737\n",
       "CHIM    0.019075\n",
       "KURE    0.018232\n",
       "CHIS    0.017398\n",
       "dtype: float64"
      ]
     },
     "execution_count": 11,
     "metadata": {},
     "output_type": "execute_result"
    }
   ],
   "source": [
    "china_std = china_daily_returns.std()\n",
    "china_std"
   ]
  },
  {
   "cell_type": "code",
   "execution_count": 12,
   "metadata": {},
   "outputs": [
    {
     "data": {
      "text/plain": [
       "SPY     0.006522\n",
       "IECS    0.004750\n",
       "IYH     0.006920\n",
       "IGM     0.008414\n",
       "IYE     0.011498\n",
       "IYH     0.006920\n",
       "dtype: float64"
      ]
     },
     "execution_count": 12,
     "metadata": {},
     "output_type": "execute_result"
    }
   ],
   "source": [
    "us_std = us_daily_returns.std()\n",
    "us_std"
   ]
  },
  {
   "cell_type": "code",
   "execution_count": 13,
   "metadata": {},
   "outputs": [
    {
     "data": {
      "text/plain": [
       "<matplotlib.axes._subplots.AxesSubplot at 0x15c0f87ebc8>"
      ]
     },
     "execution_count": 13,
     "metadata": {},
     "output_type": "execute_result"
    },
    {
     "data": {
      "image/png": "[encoded data removed]",
      "text/plain": [
       "<Figure size 432x288 with 1 Axes>"
      ]
     },
     "metadata": {
      "needs_background": "light"
     },
     "output_type": "display_data"
    }
   ],
   "source": [
    "china_std.plot.bar()"
   ]
  },
  {
   "cell_type": "code",
   "execution_count": 14,
   "metadata": {},
   "outputs": [
    {
     "data": {
      "text/plain": [
       "<matplotlib.axes._subplots.AxesSubplot at 0x15c0f8fa148>"
      ]
     },
     "execution_count": 14,
     "metadata": {},
     "output_type": "execute_result"
    },
    {
     "data": {
      "image/png": "[encoded data removed]",
      "text/plain": [
       "<Figure size 432x288 with 1 Axes>"
      ]
     },
     "metadata": {
      "needs_background": "light"
     },
     "output_type": "display_data"
    }
   ],
   "source": [
    "us_std.plot.bar()"
   ]
  },
  {
   "cell_type": "code",
   "execution_count": 15,
   "metadata": {},
   "outputs": [
    {
     "data": {
      "text/html": [
       "<div>\n",
       "<style scoped>\n",
       "    .dataframe tbody tr th:only-of-type {\n",
       "        vertical-align: middle;\n",
       "    }\n",
       "\n",
       "    .dataframe tbody tr th {\n",
       "        vertical-align: top;\n",
       "    }\n",
       "\n",
       "    .dataframe thead th {\n",
       "        text-align: right;\n",
       "    }\n",
       "</style>\n",
       "<table border=\"1\" class=\"dataframe\">\n",
       "  <thead>\n",
       "    <tr style=\"text-align: right;\">\n",
       "      <th></th>\n",
       "      <th>Deaths</th>\n",
       "      <th>Confirmed_Infected</th>\n",
       "      <th>Unnamed: 3</th>\n",
       "    </tr>\n",
       "    <tr>\n",
       "      <th>Date</th>\n",
       "      <th></th>\n",
       "      <th></th>\n",
       "      <th></th>\n",
       "    </tr>\n",
       "  </thead>\n",
       "  <tbody>\n",
       "    <tr>\n",
       "      <td>2020-01-21</td>\n",
       "      <td>NaN</td>\n",
       "      <td>331</td>\n",
       "      <td>NaN</td>\n",
       "    </tr>\n",
       "    <tr>\n",
       "      <td>2020-01-22</td>\n",
       "      <td>NaN</td>\n",
       "      <td>555</td>\n",
       "      <td>NaN</td>\n",
       "    </tr>\n",
       "    <tr>\n",
       "      <td>2020-01-23</td>\n",
       "      <td>NaN</td>\n",
       "      <td>654</td>\n",
       "      <td>NaN</td>\n",
       "    </tr>\n",
       "    <tr>\n",
       "      <td>2020-01-24</td>\n",
       "      <td>24.0</td>\n",
       "      <td>941</td>\n",
       "      <td>NaN</td>\n",
       "    </tr>\n",
       "    <tr>\n",
       "      <td>2020-01-25</td>\n",
       "      <td>52.0</td>\n",
       "      <td>2014</td>\n",
       "      <td>NaN</td>\n",
       "    </tr>\n",
       "  </tbody>\n",
       "</table>\n",
       "</div>"
      ],
      "text/plain": [
       "            Deaths  Confirmed_Infected  Unnamed: 3\n",
       "Date                                              \n",
       "2020-01-21     NaN                 331         NaN\n",
       "2020-01-22     NaN                 555         NaN\n",
       "2020-01-23     NaN                 654         NaN\n",
       "2020-01-24    24.0                 941         NaN\n",
       "2020-01-25    52.0                2014         NaN"
      ]
     },
     "execution_count": 15,
     "metadata": {},
     "output_type": "execute_result"
    }
   ],
   "source": [
    "#code to read csv of coronoavirus_cases\n",
    "cv_csv = Path(\"coronavirus_cases.csv\")\n",
    "df_cv = pd.read_csv(cv_csv)\n",
    "df_cv.set_index(pd.to_datetime(df_cv['Date'], infer_datetime_format=True), inplace=True)\n",
    "df_cv.drop(columns=['Date'], inplace=True)\n",
    "df_cv.sort_index(ascending=True, inplace=True)\n",
    "df_cv.head()"
   ]
  },
  {
   "cell_type": "code",
   "execution_count": 16,
   "metadata": {},
   "outputs": [
    {
     "data": {
      "text/plain": [
       "Deaths                float64\n",
       "Confirmed_Infected      int64\n",
       "Unnamed: 3            float64\n",
       "dtype: object"
      ]
     },
     "execution_count": 16,
     "metadata": {},
     "output_type": "execute_result"
    }
   ],
   "source": [
    "df_cv.dtypes"
   ]
  },
  {
   "cell_type": "code",
   "execution_count": 17,
   "metadata": {},
   "outputs": [],
   "source": [
    "df_cv.drop(columns='Unnamed: 3', inplace=True)"
   ]
  },
  {
   "cell_type": "code",
   "execution_count": 18,
   "metadata": {},
   "outputs": [
    {
     "data": {
      "text/html": [
       "<div>\n",
       "<style scoped>\n",
       "    .dataframe tbody tr th:only-of-type {\n",
       "        vertical-align: middle;\n",
       "    }\n",
       "\n",
       "    .dataframe tbody tr th {\n",
       "        vertical-align: top;\n",
       "    }\n",
       "\n",
       "    .dataframe thead th {\n",
       "        text-align: right;\n",
       "    }\n",
       "</style>\n",
       "<table border=\"1\" class=\"dataframe\">\n",
       "  <thead>\n",
       "    <tr style=\"text-align: right;\">\n",
       "      <th></th>\n",
       "      <th>Deaths</th>\n",
       "      <th>Confirmed_Infected</th>\n",
       "      <th>Death/Infection</th>\n",
       "    </tr>\n",
       "    <tr>\n",
       "      <th>Date</th>\n",
       "      <th></th>\n",
       "      <th></th>\n",
       "      <th></th>\n",
       "    </tr>\n",
       "  </thead>\n",
       "  <tbody>\n",
       "    <tr>\n",
       "      <td>2020-01-21</td>\n",
       "      <td>NaN</td>\n",
       "      <td>331</td>\n",
       "      <td>NaN</td>\n",
       "    </tr>\n",
       "    <tr>\n",
       "      <td>2020-01-22</td>\n",
       "      <td>NaN</td>\n",
       "      <td>555</td>\n",
       "      <td>NaN</td>\n",
       "    </tr>\n",
       "    <tr>\n",
       "      <td>2020-01-23</td>\n",
       "      <td>NaN</td>\n",
       "      <td>654</td>\n",
       "      <td>NaN</td>\n",
       "    </tr>\n",
       "    <tr>\n",
       "      <td>2020-01-24</td>\n",
       "      <td>24.0</td>\n",
       "      <td>941</td>\n",
       "      <td>0.025505</td>\n",
       "    </tr>\n",
       "    <tr>\n",
       "      <td>2020-01-25</td>\n",
       "      <td>52.0</td>\n",
       "      <td>2014</td>\n",
       "      <td>0.025819</td>\n",
       "    </tr>\n",
       "  </tbody>\n",
       "</table>\n",
       "</div>"
      ],
      "text/plain": [
       "            Deaths  Confirmed_Infected  Death/Infection\n",
       "Date                                                   \n",
       "2020-01-21     NaN                 331              NaN\n",
       "2020-01-22     NaN                 555              NaN\n",
       "2020-01-23     NaN                 654              NaN\n",
       "2020-01-24    24.0                 941         0.025505\n",
       "2020-01-25    52.0                2014         0.025819"
      ]
     },
     "execution_count": 18,
     "metadata": {},
     "output_type": "execute_result"
    }
   ],
   "source": [
    "df_cv['Death/Infection'] = df_cv.Deaths / df_cv.Confirmed_Infected\n",
    "df_cv.head()"
   ]
  },
  {
   "cell_type": "code",
   "execution_count": 19,
   "metadata": {},
   "outputs": [
    {
     "data": {
      "text/html": [
       "<div>\n",
       "<style scoped>\n",
       "    .dataframe tbody tr th:only-of-type {\n",
       "        vertical-align: middle;\n",
       "    }\n",
       "\n",
       "    .dataframe tbody tr th {\n",
       "        vertical-align: top;\n",
       "    }\n",
       "\n",
       "    .dataframe thead th {\n",
       "        text-align: right;\n",
       "    }\n",
       "</style>\n",
       "<table border=\"1\" class=\"dataframe\">\n",
       "  <thead>\n",
       "    <tr style=\"text-align: right;\">\n",
       "      <th></th>\n",
       "      <th>Deaths</th>\n",
       "      <th>Confirmed_Infected</th>\n",
       "      <th>Death/Infection</th>\n",
       "    </tr>\n",
       "    <tr>\n",
       "      <th>Date</th>\n",
       "      <th></th>\n",
       "      <th></th>\n",
       "      <th></th>\n",
       "    </tr>\n",
       "  </thead>\n",
       "  <tbody>\n",
       "    <tr>\n",
       "      <td>2020-01-21</td>\n",
       "      <td>NaN</td>\n",
       "      <td>NaN</td>\n",
       "      <td>NaN</td>\n",
       "    </tr>\n",
       "    <tr>\n",
       "      <td>2020-01-22</td>\n",
       "      <td>NaN</td>\n",
       "      <td>0.676737</td>\n",
       "      <td>NaN</td>\n",
       "    </tr>\n",
       "    <tr>\n",
       "      <td>2020-01-23</td>\n",
       "      <td>NaN</td>\n",
       "      <td>0.178378</td>\n",
       "      <td>NaN</td>\n",
       "    </tr>\n",
       "    <tr>\n",
       "      <td>2020-01-24</td>\n",
       "      <td>NaN</td>\n",
       "      <td>0.438838</td>\n",
       "      <td>NaN</td>\n",
       "    </tr>\n",
       "    <tr>\n",
       "      <td>2020-01-25</td>\n",
       "      <td>1.166667</td>\n",
       "      <td>1.140276</td>\n",
       "      <td>0.01233</td>\n",
       "    </tr>\n",
       "  </tbody>\n",
       "</table>\n",
       "</div>"
      ],
      "text/plain": [
       "              Deaths  Confirmed_Infected  Death/Infection\n",
       "Date                                                     \n",
       "2020-01-21       NaN                 NaN              NaN\n",
       "2020-01-22       NaN            0.676737              NaN\n",
       "2020-01-23       NaN            0.178378              NaN\n",
       "2020-01-24       NaN            0.438838              NaN\n",
       "2020-01-25  1.166667            1.140276          0.01233"
      ]
     },
     "execution_count": 19,
     "metadata": {},
     "output_type": "execute_result"
    }
   ],
   "source": [
    "cv_change_df = df_cv.pct_change()\n",
    "cv_change_df.head()"
   ]
  },
  {
   "cell_type": "code",
   "execution_count": 20,
   "metadata": {},
   "outputs": [],
   "source": [
    "cv_change_df.index = cv_change_df.index.tz_localize('UTC')"
   ]
  },
  {
   "cell_type": "code",
   "execution_count": 21,
   "metadata": {},
   "outputs": [
    {
     "data": {
      "text/html": [
       "<div>\n",
       "<style scoped>\n",
       "    .dataframe tbody tr th:only-of-type {\n",
       "        vertical-align: middle;\n",
       "    }\n",
       "\n",
       "    .dataframe tbody tr th {\n",
       "        vertical-align: top;\n",
       "    }\n",
       "\n",
       "    .dataframe thead th {\n",
       "        text-align: right;\n",
       "    }\n",
       "</style>\n",
       "<table border=\"1\" class=\"dataframe\">\n",
       "  <thead>\n",
       "    <tr style=\"text-align: right;\">\n",
       "      <th></th>\n",
       "      <th>SPY</th>\n",
       "      <th>IECS</th>\n",
       "      <th>IYH</th>\n",
       "      <th>IGM</th>\n",
       "      <th>IYE</th>\n",
       "      <th>IYH</th>\n",
       "      <th>ASHR</th>\n",
       "      <th>CQQQ</th>\n",
       "      <th>CHIE</th>\n",
       "      <th>CHIM</th>\n",
       "      <th>KURE</th>\n",
       "      <th>CHIS</th>\n",
       "      <th>Deaths</th>\n",
       "      <th>Confirmed_Infected</th>\n",
       "      <th>Death/Infection</th>\n",
       "    </tr>\n",
       "  </thead>\n",
       "  <tbody>\n",
       "    <tr>\n",
       "      <td>2019-12-02 00:00:00+00:00</td>\n",
       "      <td>NaN</td>\n",
       "      <td>NaN</td>\n",
       "      <td>NaN</td>\n",
       "      <td>NaN</td>\n",
       "      <td>NaN</td>\n",
       "      <td>NaN</td>\n",
       "      <td>NaN</td>\n",
       "      <td>NaN</td>\n",
       "      <td>NaN</td>\n",
       "      <td>NaN</td>\n",
       "      <td>NaN</td>\n",
       "      <td>NaN</td>\n",
       "      <td>NaN</td>\n",
       "      <td>NaN</td>\n",
       "      <td>NaN</td>\n",
       "    </tr>\n",
       "    <tr>\n",
       "      <td>2019-12-03 00:00:00+00:00</td>\n",
       "      <td>-0.006706</td>\n",
       "      <td>-0.001500</td>\n",
       "      <td>-0.002397</td>\n",
       "      <td>-0.006177</td>\n",
       "      <td>-0.014617</td>\n",
       "      <td>-0.002397</td>\n",
       "      <td>-0.000365</td>\n",
       "      <td>-0.007020</td>\n",
       "      <td>-0.012346</td>\n",
       "      <td>-0.009970</td>\n",
       "      <td>-0.002557</td>\n",
       "      <td>-0.008297</td>\n",
       "      <td>NaN</td>\n",
       "      <td>NaN</td>\n",
       "      <td>NaN</td>\n",
       "    </tr>\n",
       "    <tr>\n",
       "      <td>2019-12-04 00:00:00+00:00</td>\n",
       "      <td>0.006170</td>\n",
       "      <td>0.006239</td>\n",
       "      <td>0.009225</td>\n",
       "      <td>0.003477</td>\n",
       "      <td>0.016446</td>\n",
       "      <td>0.009225</td>\n",
       "      <td>0.012764</td>\n",
       "      <td>0.001717</td>\n",
       "      <td>0.003500</td>\n",
       "      <td>0.017120</td>\n",
       "      <td>0.014143</td>\n",
       "      <td>0.014940</td>\n",
       "      <td>NaN</td>\n",
       "      <td>NaN</td>\n",
       "      <td>NaN</td>\n",
       "    </tr>\n",
       "    <tr>\n",
       "      <td>2019-12-05 00:00:00+00:00</td>\n",
       "      <td>0.001798</td>\n",
       "      <td>-0.001276</td>\n",
       "      <td>-0.000667</td>\n",
       "      <td>0.001819</td>\n",
       "      <td>-0.006028</td>\n",
       "      <td>-0.000667</td>\n",
       "      <td>0.004321</td>\n",
       "      <td>0.017038</td>\n",
       "      <td>-0.016941</td>\n",
       "      <td>-0.001980</td>\n",
       "      <td>0.012099</td>\n",
       "      <td>0.002907</td>\n",
       "      <td>NaN</td>\n",
       "      <td>NaN</td>\n",
       "      <td>NaN</td>\n",
       "    </tr>\n",
       "    <tr>\n",
       "      <td>2019-12-06 00:00:00+00:00</td>\n",
       "      <td>0.009134</td>\n",
       "      <td>0.003763</td>\n",
       "      <td>0.006289</td>\n",
       "      <td>0.009080</td>\n",
       "      <td>0.020747</td>\n",
       "      <td>0.006289</td>\n",
       "      <td>0.010398</td>\n",
       "      <td>0.007335</td>\n",
       "      <td>0.017739</td>\n",
       "      <td>0.008929</td>\n",
       "      <td>0.012013</td>\n",
       "      <td>0.010097</td>\n",
       "      <td>NaN</td>\n",
       "      <td>NaN</td>\n",
       "      <td>NaN</td>\n",
       "    </tr>\n",
       "  </tbody>\n",
       "</table>\n",
       "</div>"
      ],
      "text/plain": [
       "                                SPY      IECS       IYH       IGM       IYE  \\\n",
       "2019-12-02 00:00:00+00:00       NaN       NaN       NaN       NaN       NaN   \n",
       "2019-12-03 00:00:00+00:00 -0.006706 -0.001500 -0.002397 -0.006177 -0.014617   \n",
       "2019-12-04 00:00:00+00:00  0.006170  0.006239  0.009225  0.003477  0.016446   \n",
       "2019-12-05 00:00:00+00:00  0.001798 -0.001276 -0.000667  0.001819 -0.006028   \n",
       "2019-12-06 00:00:00+00:00  0.009134  0.003763  0.006289  0.009080  0.020747   \n",
       "\n",
       "                                IYH      ASHR      CQQQ      CHIE      CHIM  \\\n",
       "2019-12-02 00:00:00+00:00       NaN       NaN       NaN       NaN       NaN   \n",
       "2019-12-03 00:00:00+00:00 -0.002397 -0.000365 -0.007020 -0.012346 -0.009970   \n",
       "2019-12-04 00:00:00+00:00  0.009225  0.012764  0.001717  0.003500  0.017120   \n",
       "2019-12-05 00:00:00+00:00 -0.000667  0.004321  0.017038 -0.016941 -0.001980   \n",
       "2019-12-06 00:00:00+00:00  0.006289  0.010398  0.007335  0.017739  0.008929   \n",
       "\n",
       "                               KURE      CHIS  Deaths  Confirmed_Infected  \\\n",
       "2019-12-02 00:00:00+00:00       NaN       NaN     NaN                 NaN   \n",
       "2019-12-03 00:00:00+00:00 -0.002557 -0.008297     NaN                 NaN   \n",
       "2019-12-04 00:00:00+00:00  0.014143  0.014940     NaN                 NaN   \n",
       "2019-12-05 00:00:00+00:00  0.012099  0.002907     NaN                 NaN   \n",
       "2019-12-06 00:00:00+00:00  0.012013  0.010097     NaN                 NaN   \n",
       "\n",
       "                           Death/Infection  \n",
       "2019-12-02 00:00:00+00:00              NaN  \n",
       "2019-12-03 00:00:00+00:00              NaN  \n",
       "2019-12-04 00:00:00+00:00              NaN  \n",
       "2019-12-05 00:00:00+00:00              NaN  \n",
       "2019-12-06 00:00:00+00:00              NaN  "
      ]
     },
     "execution_count": 21,
     "metadata": {},
     "output_type": "execute_result"
    }
   ],
   "source": [
    "combined_df = pd.concat([us_daily_returns, china_daily_returns, cv_change_df], axis=1, sort=True)\n",
    "combined_df.head()"
   ]
  },
  {
   "cell_type": "code",
   "execution_count": null,
   "metadata": {},
   "outputs": [],
   "source": []
  }
 ],
 "metadata": {
  "kernelspec": {
   "display_name": "Python 3",
   "language": "python",
   "name": "python3"
  },
  "language_info": {
   "codemirror_mode": {
    "name": "ipython",
    "version": 3
   },
   "file_extension": ".py",
   "mimetype": "text/x-python",
   "name": "python",
   "nbconvert_exporter": "python",
   "pygments_lexer": "ipython3",
   "version": "3.7.4"
  }
 },
 "nbformat": 4,
 "nbformat_minor": 4
}
